{
 "cells": [
  {
   "cell_type": "code",
   "execution_count": 379,
   "id": "7b40eed3",
   "metadata": {},
   "outputs": [],
   "source": [
    "import pandas as pd\n",
    "import numpy as np\n",
    "import warnings\n",
    "from scipy.stats import skew\n",
    "import math\n",
    "import itertools\n",
    "\n",
    "from sklearn.metrics import make_scorer, mean_squared_error\n",
    "from sklearn.model_selection import cross_val_score\n",
    "from sklearn.model_selection import RandomizedSearchCV\n",
    "from sklearn.model_selection import GridSearchCV\n",
    "\n",
    "\n",
    "#adding decision-tree based models\n",
    "from sklearn.ensemble import RandomForestRegressor\n",
    "import xgboost as xgb\n",
    "\n",
    "#adding linear models\n",
    "from sklearn.linear_model import Ridge\n",
    "from sklearn.linear_model import ElasticNet\n"
   ]
  },
  {
   "cell_type": "code",
   "execution_count": 218,
   "id": "f06672b5",
   "metadata": {},
   "outputs": [],
   "source": [
    "warnings.filterwarnings('ignore')"
   ]
  },
  {
   "cell_type": "code",
   "execution_count": 219,
   "id": "4d49583c",
   "metadata": {},
   "outputs": [],
   "source": [
    "train_original = pd.read_csv('/Users/mk/Desktop/JupyterNotebooks/Housing Prices/train.csv')\n",
    "test_original = pd.read_csv('/Users/mk/Desktop/JupyterNotebooks/Housing Prices/test.csv')\n",
    "\n",
    "train = pd.read_csv('/Users/mk/Desktop/JupyterNotebooks/Housing Prices/train.csv')\n",
    "test = pd.read_csv('/Users/mk/Desktop/JupyterNotebooks/Housing Prices/test.csv')"
   ]
  },
  {
   "cell_type": "code",
   "execution_count": 220,
   "id": "74b25934",
   "metadata": {},
   "outputs": [],
   "source": [
    "#1. Drop Id, set aside SalePrice\n",
    "\n",
    "train.drop(['Id'], axis = 1 , inplace = True)\n",
    "test.drop(['Id'], axis = 1, inplace = True)\n",
    "\n",
    "y_train = train_original['SalePrice']\n",
    "train.drop(['SalePrice'], axis = 1, inplace = True)\n",
    "\n"
   ]
  },
  {
   "cell_type": "code",
   "execution_count": 221,
   "id": "a41729c8",
   "metadata": {},
   "outputs": [
    {
     "name": "stdout",
     "output_type": "stream",
     "text": [
      "34900 755000\n",
      "<class 'pandas.core.series.Series'>\n",
      "RangeIndex: 1460 entries, 0 to 1459\n",
      "Series name: SalePrice\n",
      "Non-Null Count  Dtype  \n",
      "--------------  -----  \n",
      "1460 non-null   float64\n",
      "dtypes: float64(1)\n",
      "memory usage: 11.5 KB\n"
     ]
    }
   ],
   "source": [
    "#1a. Check the min and max of the dependent variable, to ensure we can take the log\n",
    "print(y_train.min(), y_train.max())\n",
    "\n",
    "y_train = np.log1p(y_train)\n",
    "\n",
    "y_train.info()"
   ]
  },
  {
   "cell_type": "code",
   "execution_count": 222,
   "id": "4a7fdbb3",
   "metadata": {},
   "outputs": [],
   "source": [
    "#2. Drop any columns with null values in both train and test. \n",
    "\n",
    "combo = pd.concat([train, test], axis = 0)\n",
    "\n",
    "NA = combo.columns[combo.isna().any()].tolist()\n",
    "\n",
    "combo.drop(NA, axis = 1, inplace = True)"
   ]
  },
  {
   "cell_type": "code",
   "execution_count": 223,
   "id": "8f61bdfd",
   "metadata": {},
   "outputs": [
    {
     "name": "stdout",
     "output_type": "stream",
     "text": [
      "['MSSubClass', 'LotArea', 'OverallQual', 'OverallCond', 'YearBuilt', 'YearRemodAdd', '1stFlrSF', '2ndFlrSF', 'LowQualFinSF', 'GrLivArea', 'FullBath', 'HalfBath', 'BedroomAbvGr', 'KitchenAbvGr', 'TotRmsAbvGrd', 'Fireplaces', 'WoodDeckSF', 'OpenPorchSF', 'EnclosedPorch', '3SsnPorch', 'ScreenPorch', 'PoolArea', 'MiscVal', 'MoSold', 'YrSold']\n"
     ]
    }
   ],
   "source": [
    "#2a. Check which columns are categorical vs. quantitative\n",
    "\n",
    "quant_columns = []\n",
    "\n",
    "\n",
    "for x in combo.columns:\n",
    "    if combo[x].dtypes != 'O':\n",
    "        quant_columns.append(x)\n",
    "\n",
    "print(quant_columns)\n",
    "\n"
   ]
  },
  {
   "cell_type": "code",
   "execution_count": 224,
   "id": "e6e8f4b7",
   "metadata": {},
   "outputs": [
    {
     "data": {
      "text/plain": [
       "MSSubClass        1.375457\n",
       "LotArea          12.822431\n",
       "OverallQual       0.197110\n",
       "OverallCond       0.570312\n",
       "YearBuilt        -0.599806\n",
       "YearRemodAdd     -0.451020\n",
       "1stFlrSF          1.469604\n",
       "2ndFlrSF          0.861675\n",
       "LowQualFinSF     12.088761\n",
       "GrLivArea         1.269358\n",
       "FullBath          0.167606\n",
       "HalfBath          0.694566\n",
       "BedroomAbvGr      0.326324\n",
       "KitchenAbvGr      4.302254\n",
       "TotRmsAbvGrd      0.758367\n",
       "Fireplaces        0.733495\n",
       "WoodDeckSF        1.842433\n",
       "OpenPorchSF       2.535114\n",
       "EnclosedPorch     4.003891\n",
       "3SsnPorch        11.376065\n",
       "ScreenPorch       3.946694\n",
       "PoolArea         16.898328\n",
       "MiscVal          21.947195\n",
       "MoSold            0.195884\n",
       "YrSold            0.132399\n",
       "dtype: float64"
      ]
     },
     "execution_count": 224,
     "metadata": {},
     "output_type": "execute_result"
    }
   ],
   "source": [
    "#2b. Check skew for each quantitative column\n",
    "\n",
    "#https://stats.stackexchange.com/questions/107610/what-is-the-reason-the-log-transformation-is-used-with-right-skewed-distribution\n",
    "#Note that based on the above, taking the log doesn't actually help with left skewed - it helps with right skewed,\n",
    "#when there is a big right tail. If the log of left skewed data is taken, then the skewness will be exacerbated\n",
    "\n",
    "skewers = combo[quant_columns].apply(lambda x: skew(x))\n",
    "skewers"
   ]
  },
  {
   "cell_type": "code",
   "execution_count": 225,
   "id": "c2c8bdfe",
   "metadata": {},
   "outputs": [
    {
     "name": "stdout",
     "output_type": "stream",
     "text": [
      "MSSubClass        0.245157\n",
      "LotArea          -0.504751\n",
      "OverallQual       0.197110\n",
      "OverallCond       0.570312\n",
      "YearBuilt        -0.599806\n",
      "YearRemodAdd     -0.451020\n",
      "1stFlrSF          0.064828\n",
      "2ndFlrSF          0.861675\n",
      "LowQualFinSF      8.557690\n",
      "GrLivArea         0.013188\n",
      "FullBath          0.167606\n",
      "HalfBath          0.694566\n",
      "BedroomAbvGr      0.326324\n",
      "KitchenAbvGr      3.520351\n",
      "TotRmsAbvGrd      0.758367\n",
      "Fireplaces        0.733495\n",
      "WoodDeckSF        0.158033\n",
      "OpenPorchSF      -0.041797\n",
      "EnclosedPorch     1.961081\n",
      "3SsnPorch         8.825256\n",
      "ScreenPorch       2.945905\n",
      "PoolArea         14.998335\n",
      "MiscVal           5.213984\n",
      "MoSold            0.195884\n",
      "YrSold            0.132399\n",
      "dtype: float64\n"
     ]
    }
   ],
   "source": [
    "#2c. Fortunately, there aren't any severely left skewed features. Apply the rule that if skew > 1, we take the log. \n",
    "for x in skewers.index:\n",
    "    if skewers[x] > 1:\n",
    "        combo[x] = (np.log1p(combo[x])) #<-start here next time\n",
    "        \n",
    "skewers_2 = combo[quant_columns].apply(lambda x: skew(x))\n",
    "print(skewers_2)\n",
    "\n",
    "#combo.info()\n"
   ]
  },
  {
   "cell_type": "code",
   "execution_count": 226,
   "id": "a9795121",
   "metadata": {},
   "outputs": [
    {
     "name": "stdout",
     "output_type": "stream",
     "text": [
      "Number of features increased from 45 to 149.\n"
     ]
    }
   ],
   "source": [
    "#3. One-hot encode all categorical features. This increases dimensionality significantly \n",
    "\n",
    "x = len(combo.columns)\n",
    "\n",
    "combo = pd.get_dummies(combo)\n",
    "\n",
    "y = len(combo.columns)\n",
    "\n",
    "print(\"Number of features increased from \" + str(x) + \" to \" + str(y) +'.')"
   ]
  },
  {
   "cell_type": "code",
   "execution_count": 227,
   "id": "e8630284",
   "metadata": {},
   "outputs": [],
   "source": [
    "#4. Split back into train/test, run cross validation"
   ]
  },
  {
   "cell_type": "code",
   "execution_count": 228,
   "id": "927cdb7c",
   "metadata": {},
   "outputs": [],
   "source": [
    "X_train = combo.iloc[:1460]\n",
    "X_test = combo.iloc[1460:]"
   ]
  },
  {
   "cell_type": "code",
   "execution_count": 229,
   "id": "f0a875e1",
   "metadata": {},
   "outputs": [
    {
     "data": {
      "text/plain": [
       "149"
      ]
     },
     "execution_count": 229,
     "metadata": {},
     "output_type": "execute_result"
    }
   ],
   "source": [
    "len(X_train.columns)"
   ]
  },
  {
   "cell_type": "code",
   "execution_count": 230,
   "id": "79b11ce2",
   "metadata": {},
   "outputs": [
    {
     "data": {
      "text/plain": [
       "True"
      ]
     },
     "execution_count": 230,
     "metadata": {},
     "output_type": "execute_result"
    }
   ],
   "source": [
    "len(X_train.index) + len(X_test.index) == len(combo.index)"
   ]
  },
  {
   "cell_type": "code",
   "execution_count": 266,
   "id": "4cb52dea",
   "metadata": {},
   "outputs": [],
   "source": [
    "#4a. Create our custom scorer. \n",
    "\n",
    "#Metric\n",
    "#Submissions are evaluated on Root-Mean-Squared-Error (RMSE) between the logarithm \n",
    "#of the predicted value and the logarithm of the observed sales price. \n",
    "\n",
    "#Right now, the output from the model would be post-log1p, since we took the log of current sale price.\n",
    "#So realistically, we just take the RMSE between truth and predictions.\n",
    "\n",
    "def custom_loss_function(truth, predictions):\n",
    "    return math.sqrt(mean_squared_error(truth, predictions))\n",
    "\n",
    "my_scorer = make_scorer(custom_loss_function, greater_is_better=False)\n",
    "\n",
    "#====================================================================================\n",
    "#below this point run the cross val functions and check scoring \n",
    "#===================================================================================="
   ]
  },
  {
   "cell_type": "code",
   "execution_count": 267,
   "id": "c24f75d1",
   "metadata": {},
   "outputs": [],
   "source": [
    "def cross_val_initial(x,y):\n",
    "    RF_model = RandomForestRegressor(random_state = 42)\n",
    "    score = cross_val_score(RF_model, x, y, scoring = my_scorer, cv = 5)\n",
    "    print('Random Forest scores: ' + str(np.mean(score)))\n",
    "    \n",
    "    linear_model = Ridge(random_state = 42)\n",
    "    score2 = cross_val_score(linear_model, x, y, scoring = my_scorer, cv = 5)\n",
    "    print('Ridge scores: ' + str(np.mean(score2)))\n",
    "    \n",
    "    elastic = ElasticNet(random_state = 42)\n",
    "    score3 = cross_val_score(elastic, x, y, scoring = my_scorer, cv = 5)\n",
    "    print('Elastic scores: ' + str(np.mean(score3)))\n",
    "    \n",
    "    boost = xgb.XGBRegressor(random_state = 42)\n",
    "    score4 = cross_val_score(boost, x, y, scoring = my_scorer, cv = 5)\n",
    "    print('XGBoost scores: ' + str(np.mean(score4)))\n",
    "    \n"
   ]
  },
  {
   "cell_type": "code",
   "execution_count": 268,
   "id": "d91773e6",
   "metadata": {},
   "outputs": [
    {
     "name": "stdout",
     "output_type": "stream",
     "text": [
      "Random Forest scores: -0.1509154486922206\n",
      "Ridge scores: -0.1384054687596308\n",
      "Elastic scores: -0.28626979819095333\n",
      "XGBoost scores: -0.14893926925321463\n"
     ]
    }
   ],
   "source": [
    "cross_val_initial(X_train, y_train)"
   ]
  },
  {
   "cell_type": "code",
   "execution_count": 97,
   "id": "cb337f63",
   "metadata": {},
   "outputs": [],
   "source": [
    "#4b. We hyperparameter tune each model below:"
   ]
  },
  {
   "cell_type": "code",
   "execution_count": 98,
   "id": "1484e6eb",
   "metadata": {},
   "outputs": [],
   "source": [
    "#5. Tune RF hyperparameters based on (https://arxiv.org/pdf/1804.03515.pdf)\n",
    "\n",
    "#1. mtry = max_features (p/3)\n",
    "\n",
    "#2. sample size: The sub-sample size is controlled with the max_samples parameter if bootstrap=True (default), \n",
    "#otherwise the whole dataset (n) is used to build each tree.\n",
    "\n",
    "#3. max_depth \n",
    "\n",
    "#4. number of tress = n_estimators \n",
    "\n",
    "#p = number of features\n",
    "\n",
    "#Start with 1, 4 to keep it simple"
   ]
  },
  {
   "attachments": {
    "Screen%20Shot%202023-06-30%20at%204.46.27%20PM.png": {
     "image/png": "[encoded data removed]"
    }
   },
   "cell_type": "markdown",
   "id": "6380e056",
   "metadata": {},
   "source": [
    "![Screen%20Shot%202023-06-30%20at%204.46.27%20PM.png](attachment:Screen%20Shot%202023-06-30%20at%204.46.27%20PM.png)"
   ]
  },
  {
   "cell_type": "code",
   "execution_count": 269,
   "id": "dee9a9fc",
   "metadata": {},
   "outputs": [
    {
     "data": {
      "text/plain": [
       "{'n_estimators': [100, 500, 1000],\n",
       " 'max_features': [149, 12, 49],\n",
       " 'max_depth': [3, 5, 7, None],\n",
       " 'random_state': [42]}"
      ]
     },
     "execution_count": 269,
     "metadata": {},
     "output_type": "execute_result"
    }
   ],
   "source": [
    "p = 149\n",
    "\n",
    "grid = {'n_estimators': [100, 500, 1000],\n",
    "               'max_features': [p, math.floor(math.sqrt(p)), math.floor(p/3)],\n",
    "               'max_depth': [3, 5, 7, None],\n",
    "               'random_state' : [42]}\n",
    "grid\n"
   ]
  },
  {
   "cell_type": "code",
   "execution_count": 271,
   "id": "4f9b12ab",
   "metadata": {},
   "outputs": [],
   "source": [
    "rf = RandomForestRegressor()\n",
    "\n",
    "rf_grid = GridSearchCV(estimator = rf, \n",
    "                               param_grid = grid,\n",
    "                               scoring = my_scorer,\n",
    "                               n_jobs = -1,\n",
    "                               cv = 5, \n",
    "                               verbose = 0)\n"
   ]
  },
  {
   "cell_type": "code",
   "execution_count": 272,
   "id": "326f4fc3",
   "metadata": {},
   "outputs": [
    {
     "data": {
      "text/html": [
       "<style>#sk-container-id-18 {color: black;background-color: white;}#sk-container-id-18 pre{padding: 0;}#sk-container-id-18 div.sk-toggleable {background-color: white;}#sk-container-id-18 label.sk-toggleable__label {cursor: pointer;display: block;width: 100%;margin-bottom: 0;padding: 0.3em;box-sizing: border-box;text-align: center;}#sk-container-id-18 label.sk-toggleable__label-arrow:before {content: \"▸\";float: left;margin-right: 0.25em;color: #696969;}#sk-container-id-18 label.sk-toggleable__label-arrow:hover:before {color: black;}#sk-container-id-18 div.sk-estimator:hover label.sk-toggleable__label-arrow:before {color: black;}#sk-container-id-18 div.sk-toggleable__content {max-height: 0;max-width: 0;overflow: hidden;text-align: left;background-color: #f0f8ff;}#sk-container-id-18 div.sk-toggleable__content pre {margin: 0.2em;color: black;border-radius: 0.25em;background-color: #f0f8ff;}#sk-container-id-18 input.sk-toggleable__control:checked~div.sk-toggleable__content {max-height: 200px;max-width: 100%;overflow: auto;}#sk-container-id-18 input.sk-toggleable__control:checked~label.sk-toggleable__label-arrow:before {content: \"▾\";}#sk-container-id-18 div.sk-estimator input.sk-toggleable__control:checked~label.sk-toggleable__label {background-color: #d4ebff;}#sk-container-id-18 div.sk-label input.sk-toggleable__control:checked~label.sk-toggleable__label {background-color: #d4ebff;}#sk-container-id-18 input.sk-hidden--visually {border: 0;clip: rect(1px 1px 1px 1px);clip: rect(1px, 1px, 1px, 1px);height: 1px;margin: -1px;overflow: hidden;padding: 0;position: absolute;width: 1px;}#sk-container-id-18 div.sk-estimator {font-family: monospace;background-color: #f0f8ff;border: 1px dotted black;border-radius: 0.25em;box-sizing: border-box;margin-bottom: 0.5em;}#sk-container-id-18 div.sk-estimator:hover {background-color: #d4ebff;}#sk-container-id-18 div.sk-parallel-item::after {content: \"\";width: 100%;border-bottom: 1px solid gray;flex-grow: 1;}#sk-container-id-18 div.sk-label:hover label.sk-toggleable__label {background-color: #d4ebff;}#sk-container-id-18 div.sk-serial::before {content: \"\";position: absolute;border-left: 1px solid gray;box-sizing: border-box;top: 0;bottom: 0;left: 50%;z-index: 0;}#sk-container-id-18 div.sk-serial {display: flex;flex-direction: column;align-items: center;background-color: white;padding-right: 0.2em;padding-left: 0.2em;position: relative;}#sk-container-id-18 div.sk-item {position: relative;z-index: 1;}#sk-container-id-18 div.sk-parallel {display: flex;align-items: stretch;justify-content: center;background-color: white;position: relative;}#sk-container-id-18 div.sk-item::before, #sk-container-id-18 div.sk-parallel-item::before {content: \"\";position: absolute;border-left: 1px solid gray;box-sizing: border-box;top: 0;bottom: 0;left: 50%;z-index: -1;}#sk-container-id-18 div.sk-parallel-item {display: flex;flex-direction: column;z-index: 1;position: relative;background-color: white;}#sk-container-id-18 div.sk-parallel-item:first-child::after {align-self: flex-end;width: 50%;}#sk-container-id-18 div.sk-parallel-item:last-child::after {align-self: flex-start;width: 50%;}#sk-container-id-18 div.sk-parallel-item:only-child::after {width: 0;}#sk-container-id-18 div.sk-dashed-wrapped {border: 1px dashed gray;margin: 0 0.4em 0.5em 0.4em;box-sizing: border-box;padding-bottom: 0.4em;background-color: white;}#sk-container-id-18 div.sk-label label {font-family: monospace;font-weight: bold;display: inline-block;line-height: 1.2em;}#sk-container-id-18 div.sk-label-container {text-align: center;}#sk-container-id-18 div.sk-container {/* jupyter's `normalize.less` sets `[hidden] { display: none; }` but bootstrap.min.css set `[hidden] { display: none !important; }` so we also need the `!important` here to be able to override the default hidden behavior on the sphinx rendered scikit-learn.org. See: https://github.com/scikit-learn/scikit-learn/issues/21755 */display: inline-block !important;position: relative;}#sk-container-id-18 div.sk-text-repr-fallback {display: none;}</style><div id=\"sk-container-id-18\" class=\"sk-top-container\"><div class=\"sk-text-repr-fallback\"><pre>GridSearchCV(cv=5, estimator=RandomForestRegressor(), n_jobs=-1,\n",
       "             param_grid={&#x27;max_depth&#x27;: [3, 5, 7, None],\n",
       "                         &#x27;max_features&#x27;: [149, 12, 49],\n",
       "                         &#x27;n_estimators&#x27;: [100, 500, 1000],\n",
       "                         &#x27;random_state&#x27;: [42]},\n",
       "             scoring=make_scorer(custom_loss_function, greater_is_better=False))</pre><b>In a Jupyter environment, please rerun this cell to show the HTML representation or trust the notebook. <br />On GitHub, the HTML representation is unable to render, please try loading this page with nbviewer.org.</b></div><div class=\"sk-container\" hidden><div class=\"sk-item sk-dashed-wrapped\"><div class=\"sk-label-container\"><div class=\"sk-label sk-toggleable\"><input class=\"sk-toggleable__control sk-hidden--visually\" id=\"sk-estimator-id-52\" type=\"checkbox\" ><label for=\"sk-estimator-id-52\" class=\"sk-toggleable__label sk-toggleable__label-arrow\">GridSearchCV</label><div class=\"sk-toggleable__content\"><pre>GridSearchCV(cv=5, estimator=RandomForestRegressor(), n_jobs=-1,\n",
       "             param_grid={&#x27;max_depth&#x27;: [3, 5, 7, None],\n",
       "                         &#x27;max_features&#x27;: [149, 12, 49],\n",
       "                         &#x27;n_estimators&#x27;: [100, 500, 1000],\n",
       "                         &#x27;random_state&#x27;: [42]},\n",
       "             scoring=make_scorer(custom_loss_function, greater_is_better=False))</pre></div></div></div><div class=\"sk-parallel\"><div class=\"sk-parallel-item\"><div class=\"sk-item\"><div class=\"sk-label-container\"><div class=\"sk-label sk-toggleable\"><input class=\"sk-toggleable__control sk-hidden--visually\" id=\"sk-estimator-id-53\" type=\"checkbox\" ><label for=\"sk-estimator-id-53\" class=\"sk-toggleable__label sk-toggleable__label-arrow\">estimator: RandomForestRegressor</label><div class=\"sk-toggleable__content\"><pre>RandomForestRegressor()</pre></div></div></div><div class=\"sk-serial\"><div class=\"sk-item\"><div class=\"sk-estimator sk-toggleable\"><input class=\"sk-toggleable__control sk-hidden--visually\" id=\"sk-estimator-id-54\" type=\"checkbox\" ><label for=\"sk-estimator-id-54\" class=\"sk-toggleable__label sk-toggleable__label-arrow\">RandomForestRegressor</label><div class=\"sk-toggleable__content\"><pre>RandomForestRegressor()</pre></div></div></div></div></div></div></div></div></div></div>"
      ],
      "text/plain": [
       "GridSearchCV(cv=5, estimator=RandomForestRegressor(), n_jobs=-1,\n",
       "             param_grid={'max_depth': [3, 5, 7, None],\n",
       "                         'max_features': [149, 12, 49],\n",
       "                         'n_estimators': [100, 500, 1000],\n",
       "                         'random_state': [42]},\n",
       "             scoring=make_scorer(custom_loss_function, greater_is_better=False))"
      ]
     },
     "execution_count": 272,
     "metadata": {},
     "output_type": "execute_result"
    }
   ],
   "source": [
    "rf_grid.fit(X_train, y_train)\n"
   ]
  },
  {
   "cell_type": "code",
   "execution_count": 273,
   "id": "b5486077",
   "metadata": {},
   "outputs": [
    {
     "data": {
      "text/plain": [
       "{'max_depth': None,\n",
       " 'max_features': 49,\n",
       " 'n_estimators': 500,\n",
       " 'random_state': 42}"
      ]
     },
     "execution_count": 273,
     "metadata": {},
     "output_type": "execute_result"
    }
   ],
   "source": [
    "rf_grid.best_params_\n"
   ]
  },
  {
   "cell_type": "code",
   "execution_count": 275,
   "id": "fd1dcf1b",
   "metadata": {},
   "outputs": [
    {
     "name": "stdout",
     "output_type": "stream",
     "text": [
      "-0.1428060623340539\n"
     ]
    }
   ],
   "source": [
    "#5a. Rerun the RF model with new hyperparameters\n",
    "\n",
    "new_model = RandomForestRegressor(n_estimators = 500, max_features = 49, max_depth = None, random_state = 42)\n",
    "new_score = cross_val_score(new_model, X_train, y_train, scoring = my_scorer, cv=5)\n",
    "print(np.mean(new_score))\n",
    "\n"
   ]
  },
  {
   "cell_type": "code",
   "execution_count": 276,
   "id": "ea4520e1",
   "metadata": {},
   "outputs": [],
   "source": [
    "#6. Ridge tuning:\n",
    "\n",
    "random_grid = {'alpha': [x / 1000.0 for x in range(1, 1001, 2)]}\n",
    "\n",
    "               \n",
    "ridge = Ridge()\n",
    "ridge_search = RandomizedSearchCV(estimator = ridge, \n",
    "                               param_distributions = random_grid, \n",
    "                               n_iter = 1000, \n",
    "                               cv = 5, \n",
    "                               verbose=0, \n",
    "                               random_state=42, \n",
    "                               scoring = my_scorer)"
   ]
  },
  {
   "cell_type": "code",
   "execution_count": 277,
   "id": "805257ca",
   "metadata": {},
   "outputs": [
    {
     "data": {
      "text/html": [
       "<style>#sk-container-id-19 {color: black;background-color: white;}#sk-container-id-19 pre{padding: 0;}#sk-container-id-19 div.sk-toggleable {background-color: white;}#sk-container-id-19 label.sk-toggleable__label {cursor: pointer;display: block;width: 100%;margin-bottom: 0;padding: 0.3em;box-sizing: border-box;text-align: center;}#sk-container-id-19 label.sk-toggleable__label-arrow:before {content: \"▸\";float: left;margin-right: 0.25em;color: #696969;}#sk-container-id-19 label.sk-toggleable__label-arrow:hover:before {color: black;}#sk-container-id-19 div.sk-estimator:hover label.sk-toggleable__label-arrow:before {color: black;}#sk-container-id-19 div.sk-toggleable__content {max-height: 0;max-width: 0;overflow: hidden;text-align: left;background-color: #f0f8ff;}#sk-container-id-19 div.sk-toggleable__content pre {margin: 0.2em;color: black;border-radius: 0.25em;background-color: #f0f8ff;}#sk-container-id-19 input.sk-toggleable__control:checked~div.sk-toggleable__content {max-height: 200px;max-width: 100%;overflow: auto;}#sk-container-id-19 input.sk-toggleable__control:checked~label.sk-toggleable__label-arrow:before {content: \"▾\";}#sk-container-id-19 div.sk-estimator input.sk-toggleable__control:checked~label.sk-toggleable__label {background-color: #d4ebff;}#sk-container-id-19 div.sk-label input.sk-toggleable__control:checked~label.sk-toggleable__label {background-color: #d4ebff;}#sk-container-id-19 input.sk-hidden--visually {border: 0;clip: rect(1px 1px 1px 1px);clip: rect(1px, 1px, 1px, 1px);height: 1px;margin: -1px;overflow: hidden;padding: 0;position: absolute;width: 1px;}#sk-container-id-19 div.sk-estimator {font-family: monospace;background-color: #f0f8ff;border: 1px dotted black;border-radius: 0.25em;box-sizing: border-box;margin-bottom: 0.5em;}#sk-container-id-19 div.sk-estimator:hover {background-color: #d4ebff;}#sk-container-id-19 div.sk-parallel-item::after {content: \"\";width: 100%;border-bottom: 1px solid gray;flex-grow: 1;}#sk-container-id-19 div.sk-label:hover label.sk-toggleable__label {background-color: #d4ebff;}#sk-container-id-19 div.sk-serial::before {content: \"\";position: absolute;border-left: 1px solid gray;box-sizing: border-box;top: 0;bottom: 0;left: 50%;z-index: 0;}#sk-container-id-19 div.sk-serial {display: flex;flex-direction: column;align-items: center;background-color: white;padding-right: 0.2em;padding-left: 0.2em;position: relative;}#sk-container-id-19 div.sk-item {position: relative;z-index: 1;}#sk-container-id-19 div.sk-parallel {display: flex;align-items: stretch;justify-content: center;background-color: white;position: relative;}#sk-container-id-19 div.sk-item::before, #sk-container-id-19 div.sk-parallel-item::before {content: \"\";position: absolute;border-left: 1px solid gray;box-sizing: border-box;top: 0;bottom: 0;left: 50%;z-index: -1;}#sk-container-id-19 div.sk-parallel-item {display: flex;flex-direction: column;z-index: 1;position: relative;background-color: white;}#sk-container-id-19 div.sk-parallel-item:first-child::after {align-self: flex-end;width: 50%;}#sk-container-id-19 div.sk-parallel-item:last-child::after {align-self: flex-start;width: 50%;}#sk-container-id-19 div.sk-parallel-item:only-child::after {width: 0;}#sk-container-id-19 div.sk-dashed-wrapped {border: 1px dashed gray;margin: 0 0.4em 0.5em 0.4em;box-sizing: border-box;padding-bottom: 0.4em;background-color: white;}#sk-container-id-19 div.sk-label label {font-family: monospace;font-weight: bold;display: inline-block;line-height: 1.2em;}#sk-container-id-19 div.sk-label-container {text-align: center;}#sk-container-id-19 div.sk-container {/* jupyter's `normalize.less` sets `[hidden] { display: none; }` but bootstrap.min.css set `[hidden] { display: none !important; }` so we also need the `!important` here to be able to override the default hidden behavior on the sphinx rendered scikit-learn.org. See: https://github.com/scikit-learn/scikit-learn/issues/21755 */display: inline-block !important;position: relative;}#sk-container-id-19 div.sk-text-repr-fallback {display: none;}</style><div id=\"sk-container-id-19\" class=\"sk-top-container\"><div class=\"sk-text-repr-fallback\"><pre>RandomizedSearchCV(cv=5, estimator=Ridge(), n_iter=1000,\n",
       "                   param_distributions={&#x27;alpha&#x27;: [0.001, 0.003, 0.005, 0.007,\n",
       "                                                  0.009, 0.011, 0.013, 0.015,\n",
       "                                                  0.017, 0.019, 0.021, 0.023,\n",
       "                                                  0.025, 0.027, 0.029, 0.031,\n",
       "                                                  0.033, 0.035, 0.037, 0.039,\n",
       "                                                  0.041, 0.043, 0.045, 0.047,\n",
       "                                                  0.049, 0.051, 0.053, 0.055,\n",
       "                                                  0.057, 0.059, ...]},\n",
       "                   random_state=42,\n",
       "                   scoring=make_scorer(custom_loss_function, greater_is_better=False))</pre><b>In a Jupyter environment, please rerun this cell to show the HTML representation or trust the notebook. <br />On GitHub, the HTML representation is unable to render, please try loading this page with nbviewer.org.</b></div><div class=\"sk-container\" hidden><div class=\"sk-item sk-dashed-wrapped\"><div class=\"sk-label-container\"><div class=\"sk-label sk-toggleable\"><input class=\"sk-toggleable__control sk-hidden--visually\" id=\"sk-estimator-id-55\" type=\"checkbox\" ><label for=\"sk-estimator-id-55\" class=\"sk-toggleable__label sk-toggleable__label-arrow\">RandomizedSearchCV</label><div class=\"sk-toggleable__content\"><pre>RandomizedSearchCV(cv=5, estimator=Ridge(), n_iter=1000,\n",
       "                   param_distributions={&#x27;alpha&#x27;: [0.001, 0.003, 0.005, 0.007,\n",
       "                                                  0.009, 0.011, 0.013, 0.015,\n",
       "                                                  0.017, 0.019, 0.021, 0.023,\n",
       "                                                  0.025, 0.027, 0.029, 0.031,\n",
       "                                                  0.033, 0.035, 0.037, 0.039,\n",
       "                                                  0.041, 0.043, 0.045, 0.047,\n",
       "                                                  0.049, 0.051, 0.053, 0.055,\n",
       "                                                  0.057, 0.059, ...]},\n",
       "                   random_state=42,\n",
       "                   scoring=make_scorer(custom_loss_function, greater_is_better=False))</pre></div></div></div><div class=\"sk-parallel\"><div class=\"sk-parallel-item\"><div class=\"sk-item\"><div class=\"sk-label-container\"><div class=\"sk-label sk-toggleable\"><input class=\"sk-toggleable__control sk-hidden--visually\" id=\"sk-estimator-id-56\" type=\"checkbox\" ><label for=\"sk-estimator-id-56\" class=\"sk-toggleable__label sk-toggleable__label-arrow\">estimator: Ridge</label><div class=\"sk-toggleable__content\"><pre>Ridge()</pre></div></div></div><div class=\"sk-serial\"><div class=\"sk-item\"><div class=\"sk-estimator sk-toggleable\"><input class=\"sk-toggleable__control sk-hidden--visually\" id=\"sk-estimator-id-57\" type=\"checkbox\" ><label for=\"sk-estimator-id-57\" class=\"sk-toggleable__label sk-toggleable__label-arrow\">Ridge</label><div class=\"sk-toggleable__content\"><pre>Ridge()</pre></div></div></div></div></div></div></div></div></div></div>"
      ],
      "text/plain": [
       "RandomizedSearchCV(cv=5, estimator=Ridge(), n_iter=1000,\n",
       "                   param_distributions={'alpha': [0.001, 0.003, 0.005, 0.007,\n",
       "                                                  0.009, 0.011, 0.013, 0.015,\n",
       "                                                  0.017, 0.019, 0.021, 0.023,\n",
       "                                                  0.025, 0.027, 0.029, 0.031,\n",
       "                                                  0.033, 0.035, 0.037, 0.039,\n",
       "                                                  0.041, 0.043, 0.045, 0.047,\n",
       "                                                  0.049, 0.051, 0.053, 0.055,\n",
       "                                                  0.057, 0.059, ...]},\n",
       "                   random_state=42,\n",
       "                   scoring=make_scorer(custom_loss_function, greater_is_better=False))"
      ]
     },
     "execution_count": 277,
     "metadata": {},
     "output_type": "execute_result"
    }
   ],
   "source": [
    "ridge_search.fit(X_train, y_train)"
   ]
  },
  {
   "cell_type": "code",
   "execution_count": 278,
   "id": "a0f38d3b",
   "metadata": {},
   "outputs": [
    {
     "data": {
      "text/plain": [
       "{'alpha': 0.999}"
      ]
     },
     "execution_count": 278,
     "metadata": {},
     "output_type": "execute_result"
    }
   ],
   "source": [
    "ridge_search.best_params_"
   ]
  },
  {
   "cell_type": "code",
   "execution_count": 279,
   "id": "01d09be9",
   "metadata": {},
   "outputs": [
    {
     "name": "stdout",
     "output_type": "stream",
     "text": [
      "-0.1384067702036234\n"
     ]
    }
   ],
   "source": [
    "ridge = Ridge(alpha = 0.999, random_state = 42)\n",
    "ridge_score = cross_val_score(ridge, X_train, y_train, scoring = my_scorer, cv=5)\n",
    "print(np.mean(ridge_score))\n"
   ]
  },
  {
   "cell_type": "code",
   "execution_count": 285,
   "id": "0c7ba017",
   "metadata": {},
   "outputs": [],
   "source": [
    "#7. Elastic Tuning\n",
    "\n",
    "elastic = ElasticNet()\n",
    "\n",
    "random_grid_elastic = {'alpha': [x / 10000 for x in range(1, 1001, 2)]}\n",
    "\n",
    "elastic_search = RandomizedSearchCV(estimator = elastic, \n",
    "                               param_distributions = random_grid_elastic, \n",
    "                               n_iter = 1000, \n",
    "                               cv = 5, \n",
    "                               verbose=0, \n",
    "                               random_state=42, \n",
    "                               scoring = my_scorer)"
   ]
  },
  {
   "cell_type": "code",
   "execution_count": 286,
   "id": "7c8a9b67",
   "metadata": {},
   "outputs": [
    {
     "data": {
      "text/html": [
       "<style>#sk-container-id-21 {color: black;background-color: white;}#sk-container-id-21 pre{padding: 0;}#sk-container-id-21 div.sk-toggleable {background-color: white;}#sk-container-id-21 label.sk-toggleable__label {cursor: pointer;display: block;width: 100%;margin-bottom: 0;padding: 0.3em;box-sizing: border-box;text-align: center;}#sk-container-id-21 label.sk-toggleable__label-arrow:before {content: \"▸\";float: left;margin-right: 0.25em;color: #696969;}#sk-container-id-21 label.sk-toggleable__label-arrow:hover:before {color: black;}#sk-container-id-21 div.sk-estimator:hover label.sk-toggleable__label-arrow:before {color: black;}#sk-container-id-21 div.sk-toggleable__content {max-height: 0;max-width: 0;overflow: hidden;text-align: left;background-color: #f0f8ff;}#sk-container-id-21 div.sk-toggleable__content pre {margin: 0.2em;color: black;border-radius: 0.25em;background-color: #f0f8ff;}#sk-container-id-21 input.sk-toggleable__control:checked~div.sk-toggleable__content {max-height: 200px;max-width: 100%;overflow: auto;}#sk-container-id-21 input.sk-toggleable__control:checked~label.sk-toggleable__label-arrow:before {content: \"▾\";}#sk-container-id-21 div.sk-estimator input.sk-toggleable__control:checked~label.sk-toggleable__label {background-color: #d4ebff;}#sk-container-id-21 div.sk-label input.sk-toggleable__control:checked~label.sk-toggleable__label {background-color: #d4ebff;}#sk-container-id-21 input.sk-hidden--visually {border: 0;clip: rect(1px 1px 1px 1px);clip: rect(1px, 1px, 1px, 1px);height: 1px;margin: -1px;overflow: hidden;padding: 0;position: absolute;width: 1px;}#sk-container-id-21 div.sk-estimator {font-family: monospace;background-color: #f0f8ff;border: 1px dotted black;border-radius: 0.25em;box-sizing: border-box;margin-bottom: 0.5em;}#sk-container-id-21 div.sk-estimator:hover {background-color: #d4ebff;}#sk-container-id-21 div.sk-parallel-item::after {content: \"\";width: 100%;border-bottom: 1px solid gray;flex-grow: 1;}#sk-container-id-21 div.sk-label:hover label.sk-toggleable__label {background-color: #d4ebff;}#sk-container-id-21 div.sk-serial::before {content: \"\";position: absolute;border-left: 1px solid gray;box-sizing: border-box;top: 0;bottom: 0;left: 50%;z-index: 0;}#sk-container-id-21 div.sk-serial {display: flex;flex-direction: column;align-items: center;background-color: white;padding-right: 0.2em;padding-left: 0.2em;position: relative;}#sk-container-id-21 div.sk-item {position: relative;z-index: 1;}#sk-container-id-21 div.sk-parallel {display: flex;align-items: stretch;justify-content: center;background-color: white;position: relative;}#sk-container-id-21 div.sk-item::before, #sk-container-id-21 div.sk-parallel-item::before {content: \"\";position: absolute;border-left: 1px solid gray;box-sizing: border-box;top: 0;bottom: 0;left: 50%;z-index: -1;}#sk-container-id-21 div.sk-parallel-item {display: flex;flex-direction: column;z-index: 1;position: relative;background-color: white;}#sk-container-id-21 div.sk-parallel-item:first-child::after {align-self: flex-end;width: 50%;}#sk-container-id-21 div.sk-parallel-item:last-child::after {align-self: flex-start;width: 50%;}#sk-container-id-21 div.sk-parallel-item:only-child::after {width: 0;}#sk-container-id-21 div.sk-dashed-wrapped {border: 1px dashed gray;margin: 0 0.4em 0.5em 0.4em;box-sizing: border-box;padding-bottom: 0.4em;background-color: white;}#sk-container-id-21 div.sk-label label {font-family: monospace;font-weight: bold;display: inline-block;line-height: 1.2em;}#sk-container-id-21 div.sk-label-container {text-align: center;}#sk-container-id-21 div.sk-container {/* jupyter's `normalize.less` sets `[hidden] { display: none; }` but bootstrap.min.css set `[hidden] { display: none !important; }` so we also need the `!important` here to be able to override the default hidden behavior on the sphinx rendered scikit-learn.org. See: https://github.com/scikit-learn/scikit-learn/issues/21755 */display: inline-block !important;position: relative;}#sk-container-id-21 div.sk-text-repr-fallback {display: none;}</style><div id=\"sk-container-id-21\" class=\"sk-top-container\"><div class=\"sk-text-repr-fallback\"><pre>RandomizedSearchCV(cv=5, estimator=ElasticNet(), n_iter=1000,\n",
       "                   param_distributions={&#x27;alpha&#x27;: [0.0001, 0.0003, 0.0005,\n",
       "                                                  0.0007, 0.0009, 0.0011,\n",
       "                                                  0.0013, 0.0015, 0.0017,\n",
       "                                                  0.0019, 0.0021, 0.0023,\n",
       "                                                  0.0025, 0.0027, 0.0029,\n",
       "                                                  0.0031, 0.0033, 0.0035,\n",
       "                                                  0.0037, 0.0039, 0.0041,\n",
       "                                                  0.0043, 0.0045, 0.0047,\n",
       "                                                  0.0049, 0.0051, 0.0053,\n",
       "                                                  0.0055, 0.0057, 0.0059, ...]},\n",
       "                   random_state=42,\n",
       "                   scoring=make_scorer(custom_loss_function, greater_is_better=False))</pre><b>In a Jupyter environment, please rerun this cell to show the HTML representation or trust the notebook. <br />On GitHub, the HTML representation is unable to render, please try loading this page with nbviewer.org.</b></div><div class=\"sk-container\" hidden><div class=\"sk-item sk-dashed-wrapped\"><div class=\"sk-label-container\"><div class=\"sk-label sk-toggleable\"><input class=\"sk-toggleable__control sk-hidden--visually\" id=\"sk-estimator-id-61\" type=\"checkbox\" ><label for=\"sk-estimator-id-61\" class=\"sk-toggleable__label sk-toggleable__label-arrow\">RandomizedSearchCV</label><div class=\"sk-toggleable__content\"><pre>RandomizedSearchCV(cv=5, estimator=ElasticNet(), n_iter=1000,\n",
       "                   param_distributions={&#x27;alpha&#x27;: [0.0001, 0.0003, 0.0005,\n",
       "                                                  0.0007, 0.0009, 0.0011,\n",
       "                                                  0.0013, 0.0015, 0.0017,\n",
       "                                                  0.0019, 0.0021, 0.0023,\n",
       "                                                  0.0025, 0.0027, 0.0029,\n",
       "                                                  0.0031, 0.0033, 0.0035,\n",
       "                                                  0.0037, 0.0039, 0.0041,\n",
       "                                                  0.0043, 0.0045, 0.0047,\n",
       "                                                  0.0049, 0.0051, 0.0053,\n",
       "                                                  0.0055, 0.0057, 0.0059, ...]},\n",
       "                   random_state=42,\n",
       "                   scoring=make_scorer(custom_loss_function, greater_is_better=False))</pre></div></div></div><div class=\"sk-parallel\"><div class=\"sk-parallel-item\"><div class=\"sk-item\"><div class=\"sk-label-container\"><div class=\"sk-label sk-toggleable\"><input class=\"sk-toggleable__control sk-hidden--visually\" id=\"sk-estimator-id-62\" type=\"checkbox\" ><label for=\"sk-estimator-id-62\" class=\"sk-toggleable__label sk-toggleable__label-arrow\">estimator: ElasticNet</label><div class=\"sk-toggleable__content\"><pre>ElasticNet()</pre></div></div></div><div class=\"sk-serial\"><div class=\"sk-item\"><div class=\"sk-estimator sk-toggleable\"><input class=\"sk-toggleable__control sk-hidden--visually\" id=\"sk-estimator-id-63\" type=\"checkbox\" ><label for=\"sk-estimator-id-63\" class=\"sk-toggleable__label sk-toggleable__label-arrow\">ElasticNet</label><div class=\"sk-toggleable__content\"><pre>ElasticNet()</pre></div></div></div></div></div></div></div></div></div></div>"
      ],
      "text/plain": [
       "RandomizedSearchCV(cv=5, estimator=ElasticNet(), n_iter=1000,\n",
       "                   param_distributions={'alpha': [0.0001, 0.0003, 0.0005,\n",
       "                                                  0.0007, 0.0009, 0.0011,\n",
       "                                                  0.0013, 0.0015, 0.0017,\n",
       "                                                  0.0019, 0.0021, 0.0023,\n",
       "                                                  0.0025, 0.0027, 0.0029,\n",
       "                                                  0.0031, 0.0033, 0.0035,\n",
       "                                                  0.0037, 0.0039, 0.0041,\n",
       "                                                  0.0043, 0.0045, 0.0047,\n",
       "                                                  0.0049, 0.0051, 0.0053,\n",
       "                                                  0.0055, 0.0057, 0.0059, ...]},\n",
       "                   random_state=42,\n",
       "                   scoring=make_scorer(custom_loss_function, greater_is_better=False))"
      ]
     },
     "execution_count": 286,
     "metadata": {},
     "output_type": "execute_result"
    }
   ],
   "source": [
    "elastic_search.fit(X_train, y_train)"
   ]
  },
  {
   "cell_type": "code",
   "execution_count": 287,
   "id": "150e84c5",
   "metadata": {},
   "outputs": [
    {
     "data": {
      "text/plain": [
       "{'alpha': 0.0007}"
      ]
     },
     "execution_count": 287,
     "metadata": {},
     "output_type": "execute_result"
    }
   ],
   "source": [
    "elastic_search.best_params_"
   ]
  },
  {
   "cell_type": "code",
   "execution_count": 290,
   "id": "f6fb5291",
   "metadata": {},
   "outputs": [
    {
     "name": "stdout",
     "output_type": "stream",
     "text": [
      "-0.1355942359228795\n"
     ]
    }
   ],
   "source": [
    "elastic = ElasticNet(alpha = 0.0007, random_state = 42)\n",
    "elastic_score = cross_val_score(elastic, X_train, y_train, scoring = my_scorer, cv=5)\n",
    "print(np.mean(elastic_score))"
   ]
  },
  {
   "cell_type": "code",
   "execution_count": 306,
   "id": "86def688",
   "metadata": {},
   "outputs": [],
   "source": [
    "#8. XGBoost Tuning (the hard one)\n",
    "\n",
    "# GROUP 1: max_depth , min_child_weight\n",
    "\n",
    "# GROUP 2: subsample, colsample_bytree\n",
    "\n",
    "# GROUP 3: learning_rate\n",
    "\n",
    "XGB = xgb.XGBRegressor()\n",
    "\n",
    "random_grid_XGB = {'max_depth' : list(range(0, 25, 2)), \n",
    "                   'min_child_weight': [x/10 for x in range(0,10)],\n",
    "                   'subsample': [1],\n",
    "                   'colsample_bytree': [1],\n",
    "                   'learning_rate': [0.3]}\n"
   ]
  },
  {
   "cell_type": "code",
   "execution_count": 309,
   "id": "72804f5d",
   "metadata": {},
   "outputs": [],
   "source": [
    "XGB_search = RandomizedSearchCV(estimator = XGB, \n",
    "                               param_distributions = random_grid_XGB,\n",
    "                               n_iter = 500,\n",
    "                               cv = 5,\n",
    "                               verbose = 0,\n",
    "                               random_state = 42,\n",
    "                               scoring = my_scorer,\n",
    "                               n_jobs = -1)"
   ]
  },
  {
   "cell_type": "code",
   "execution_count": 310,
   "id": "99db384e",
   "metadata": {},
   "outputs": [
    {
     "data": {
      "text/html": [
       "<style>#sk-container-id-22 {color: black;background-color: white;}#sk-container-id-22 pre{padding: 0;}#sk-container-id-22 div.sk-toggleable {background-color: white;}#sk-container-id-22 label.sk-toggleable__label {cursor: pointer;display: block;width: 100%;margin-bottom: 0;padding: 0.3em;box-sizing: border-box;text-align: center;}#sk-container-id-22 label.sk-toggleable__label-arrow:before {content: \"▸\";float: left;margin-right: 0.25em;color: #696969;}#sk-container-id-22 label.sk-toggleable__label-arrow:hover:before {color: black;}#sk-container-id-22 div.sk-estimator:hover label.sk-toggleable__label-arrow:before {color: black;}#sk-container-id-22 div.sk-toggleable__content {max-height: 0;max-width: 0;overflow: hidden;text-align: left;background-color: #f0f8ff;}#sk-container-id-22 div.sk-toggleable__content pre {margin: 0.2em;color: black;border-radius: 0.25em;background-color: #f0f8ff;}#sk-container-id-22 input.sk-toggleable__control:checked~div.sk-toggleable__content {max-height: 200px;max-width: 100%;overflow: auto;}#sk-container-id-22 input.sk-toggleable__control:checked~label.sk-toggleable__label-arrow:before {content: \"▾\";}#sk-container-id-22 div.sk-estimator input.sk-toggleable__control:checked~label.sk-toggleable__label {background-color: #d4ebff;}#sk-container-id-22 div.sk-label input.sk-toggleable__control:checked~label.sk-toggleable__label {background-color: #d4ebff;}#sk-container-id-22 input.sk-hidden--visually {border: 0;clip: rect(1px 1px 1px 1px);clip: rect(1px, 1px, 1px, 1px);height: 1px;margin: -1px;overflow: hidden;padding: 0;position: absolute;width: 1px;}#sk-container-id-22 div.sk-estimator {font-family: monospace;background-color: #f0f8ff;border: 1px dotted black;border-radius: 0.25em;box-sizing: border-box;margin-bottom: 0.5em;}#sk-container-id-22 div.sk-estimator:hover {background-color: #d4ebff;}#sk-container-id-22 div.sk-parallel-item::after {content: \"\";width: 100%;border-bottom: 1px solid gray;flex-grow: 1;}#sk-container-id-22 div.sk-label:hover label.sk-toggleable__label {background-color: #d4ebff;}#sk-container-id-22 div.sk-serial::before {content: \"\";position: absolute;border-left: 1px solid gray;box-sizing: border-box;top: 0;bottom: 0;left: 50%;z-index: 0;}#sk-container-id-22 div.sk-serial {display: flex;flex-direction: column;align-items: center;background-color: white;padding-right: 0.2em;padding-left: 0.2em;position: relative;}#sk-container-id-22 div.sk-item {position: relative;z-index: 1;}#sk-container-id-22 div.sk-parallel {display: flex;align-items: stretch;justify-content: center;background-color: white;position: relative;}#sk-container-id-22 div.sk-item::before, #sk-container-id-22 div.sk-parallel-item::before {content: \"\";position: absolute;border-left: 1px solid gray;box-sizing: border-box;top: 0;bottom: 0;left: 50%;z-index: -1;}#sk-container-id-22 div.sk-parallel-item {display: flex;flex-direction: column;z-index: 1;position: relative;background-color: white;}#sk-container-id-22 div.sk-parallel-item:first-child::after {align-self: flex-end;width: 50%;}#sk-container-id-22 div.sk-parallel-item:last-child::after {align-self: flex-start;width: 50%;}#sk-container-id-22 div.sk-parallel-item:only-child::after {width: 0;}#sk-container-id-22 div.sk-dashed-wrapped {border: 1px dashed gray;margin: 0 0.4em 0.5em 0.4em;box-sizing: border-box;padding-bottom: 0.4em;background-color: white;}#sk-container-id-22 div.sk-label label {font-family: monospace;font-weight: bold;display: inline-block;line-height: 1.2em;}#sk-container-id-22 div.sk-label-container {text-align: center;}#sk-container-id-22 div.sk-container {/* jupyter's `normalize.less` sets `[hidden] { display: none; }` but bootstrap.min.css set `[hidden] { display: none !important; }` so we also need the `!important` here to be able to override the default hidden behavior on the sphinx rendered scikit-learn.org. See: https://github.com/scikit-learn/scikit-learn/issues/21755 */display: inline-block !important;position: relative;}#sk-container-id-22 div.sk-text-repr-fallback {display: none;}</style><div id=\"sk-container-id-22\" class=\"sk-top-container\"><div class=\"sk-text-repr-fallback\"><pre>RandomizedSearchCV(cv=5,\n",
       "                   estimator=XGBRegressor(base_score=None, booster=None,\n",
       "                                          callbacks=None,\n",
       "                                          colsample_bylevel=None,\n",
       "                                          colsample_bynode=None,\n",
       "                                          colsample_bytree=None,\n",
       "                                          early_stopping_rounds=None,\n",
       "                                          enable_categorical=False,\n",
       "                                          eval_metric=None, feature_types=None,\n",
       "                                          gamma=None, gpu_id=None,\n",
       "                                          grow_policy=None,\n",
       "                                          importance_type=None,\n",
       "                                          interaction_constraints=None,\n",
       "                                          learning_rate=...\n",
       "                                          num_parallel_tree=None,\n",
       "                                          predictor=None, random_state=None, ...),\n",
       "                   n_iter=500, n_jobs=-1,\n",
       "                   param_distributions={&#x27;colsample_bytree&#x27;: [1],\n",
       "                                        &#x27;learning_rate&#x27;: [0.3],\n",
       "                                        &#x27;max_depth&#x27;: [0, 2, 4, 6, 8, 10, 12, 14,\n",
       "                                                      16, 18, 20, 22, 24],\n",
       "                                        &#x27;min_child_weight&#x27;: [0.0, 0.1, 0.2, 0.3,\n",
       "                                                             0.4, 0.5, 0.6, 0.7,\n",
       "                                                             0.8, 0.9],\n",
       "                                        &#x27;subsample&#x27;: [1]},\n",
       "                   random_state=42,\n",
       "                   scoring=make_scorer(custom_loss_function, greater_is_better=False))</pre><b>In a Jupyter environment, please rerun this cell to show the HTML representation or trust the notebook. <br />On GitHub, the HTML representation is unable to render, please try loading this page with nbviewer.org.</b></div><div class=\"sk-container\" hidden><div class=\"sk-item sk-dashed-wrapped\"><div class=\"sk-label-container\"><div class=\"sk-label sk-toggleable\"><input class=\"sk-toggleable__control sk-hidden--visually\" id=\"sk-estimator-id-64\" type=\"checkbox\" ><label for=\"sk-estimator-id-64\" class=\"sk-toggleable__label sk-toggleable__label-arrow\">RandomizedSearchCV</label><div class=\"sk-toggleable__content\"><pre>RandomizedSearchCV(cv=5,\n",
       "                   estimator=XGBRegressor(base_score=None, booster=None,\n",
       "                                          callbacks=None,\n",
       "                                          colsample_bylevel=None,\n",
       "                                          colsample_bynode=None,\n",
       "                                          colsample_bytree=None,\n",
       "                                          early_stopping_rounds=None,\n",
       "                                          enable_categorical=False,\n",
       "                                          eval_metric=None, feature_types=None,\n",
       "                                          gamma=None, gpu_id=None,\n",
       "                                          grow_policy=None,\n",
       "                                          importance_type=None,\n",
       "                                          interaction_constraints=None,\n",
       "                                          learning_rate=...\n",
       "                                          num_parallel_tree=None,\n",
       "                                          predictor=None, random_state=None, ...),\n",
       "                   n_iter=500, n_jobs=-1,\n",
       "                   param_distributions={&#x27;colsample_bytree&#x27;: [1],\n",
       "                                        &#x27;learning_rate&#x27;: [0.3],\n",
       "                                        &#x27;max_depth&#x27;: [0, 2, 4, 6, 8, 10, 12, 14,\n",
       "                                                      16, 18, 20, 22, 24],\n",
       "                                        &#x27;min_child_weight&#x27;: [0.0, 0.1, 0.2, 0.3,\n",
       "                                                             0.4, 0.5, 0.6, 0.7,\n",
       "                                                             0.8, 0.9],\n",
       "                                        &#x27;subsample&#x27;: [1]},\n",
       "                   random_state=42,\n",
       "                   scoring=make_scorer(custom_loss_function, greater_is_better=False))</pre></div></div></div><div class=\"sk-parallel\"><div class=\"sk-parallel-item\"><div class=\"sk-item\"><div class=\"sk-label-container\"><div class=\"sk-label sk-toggleable\"><input class=\"sk-toggleable__control sk-hidden--visually\" id=\"sk-estimator-id-65\" type=\"checkbox\" ><label for=\"sk-estimator-id-65\" class=\"sk-toggleable__label sk-toggleable__label-arrow\">estimator: XGBRegressor</label><div class=\"sk-toggleable__content\"><pre>XGBRegressor(base_score=None, booster=None, callbacks=None,\n",
       "             colsample_bylevel=None, colsample_bynode=None,\n",
       "             colsample_bytree=None, early_stopping_rounds=None,\n",
       "             enable_categorical=False, eval_metric=None, feature_types=None,\n",
       "             gamma=None, gpu_id=None, grow_policy=None, importance_type=None,\n",
       "             interaction_constraints=None, learning_rate=None, max_bin=None,\n",
       "             max_cat_threshold=None, max_cat_to_onehot=None,\n",
       "             max_delta_step=None, max_depth=None, max_leaves=None,\n",
       "             min_child_weight=None, missing=nan, monotone_constraints=None,\n",
       "             n_estimators=100, n_jobs=None, num_parallel_tree=None,\n",
       "             predictor=None, random_state=None, ...)</pre></div></div></div><div class=\"sk-serial\"><div class=\"sk-item\"><div class=\"sk-estimator sk-toggleable\"><input class=\"sk-toggleable__control sk-hidden--visually\" id=\"sk-estimator-id-66\" type=\"checkbox\" ><label for=\"sk-estimator-id-66\" class=\"sk-toggleable__label sk-toggleable__label-arrow\">XGBRegressor</label><div class=\"sk-toggleable__content\"><pre>XGBRegressor(base_score=None, booster=None, callbacks=None,\n",
       "             colsample_bylevel=None, colsample_bynode=None,\n",
       "             colsample_bytree=None, early_stopping_rounds=None,\n",
       "             enable_categorical=False, eval_metric=None, feature_types=None,\n",
       "             gamma=None, gpu_id=None, grow_policy=None, importance_type=None,\n",
       "             interaction_constraints=None, learning_rate=None, max_bin=None,\n",
       "             max_cat_threshold=None, max_cat_to_onehot=None,\n",
       "             max_delta_step=None, max_depth=None, max_leaves=None,\n",
       "             min_child_weight=None, missing=nan, monotone_constraints=None,\n",
       "             n_estimators=100, n_jobs=None, num_parallel_tree=None,\n",
       "             predictor=None, random_state=None, ...)</pre></div></div></div></div></div></div></div></div></div></div>"
      ],
      "text/plain": [
       "RandomizedSearchCV(cv=5,\n",
       "                   estimator=XGBRegressor(base_score=None, booster=None,\n",
       "                                          callbacks=None,\n",
       "                                          colsample_bylevel=None,\n",
       "                                          colsample_bynode=None,\n",
       "                                          colsample_bytree=None,\n",
       "                                          early_stopping_rounds=None,\n",
       "                                          enable_categorical=False,\n",
       "                                          eval_metric=None, feature_types=None,\n",
       "                                          gamma=None, gpu_id=None,\n",
       "                                          grow_policy=None,\n",
       "                                          importance_type=None,\n",
       "                                          interaction_constraints=None,\n",
       "                                          learning_rate=...\n",
       "                                          num_parallel_tree=None,\n",
       "                                          predictor=None, random_state=None, ...),\n",
       "                   n_iter=500, n_jobs=-1,\n",
       "                   param_distributions={'colsample_bytree': [1],\n",
       "                                        'learning_rate': [0.3],\n",
       "                                        'max_depth': [0, 2, 4, 6, 8, 10, 12, 14,\n",
       "                                                      16, 18, 20, 22, 24],\n",
       "                                        'min_child_weight': [0.0, 0.1, 0.2, 0.3,\n",
       "                                                             0.4, 0.5, 0.6, 0.7,\n",
       "                                                             0.8, 0.9],\n",
       "                                        'subsample': [1]},\n",
       "                   random_state=42,\n",
       "                   scoring=make_scorer(custom_loss_function, greater_is_better=False))"
      ]
     },
     "execution_count": 310,
     "metadata": {},
     "output_type": "execute_result"
    }
   ],
   "source": [
    "XGB_search.fit(X_train, y_train)"
   ]
  },
  {
   "cell_type": "code",
   "execution_count": 311,
   "id": "22c6f26d",
   "metadata": {},
   "outputs": [
    {
     "data": {
      "text/plain": [
       "{'subsample': 1,\n",
       " 'min_child_weight': 0.0,\n",
       " 'max_depth': 2,\n",
       " 'learning_rate': 0.3,\n",
       " 'colsample_bytree': 1}"
      ]
     },
     "execution_count": 311,
     "metadata": {},
     "output_type": "execute_result"
    }
   ],
   "source": [
    "XGB_search.best_params_"
   ]
  },
  {
   "cell_type": "code",
   "execution_count": 313,
   "id": "7d57a220",
   "metadata": {},
   "outputs": [
    {
     "name": "stdout",
     "output_type": "stream",
     "text": [
      "-0.14018582085035852\n"
     ]
    }
   ],
   "source": [
    "#rerun with the chosen parameters from group 1\n",
    "XGB = xgb.XGBRegressor(subsample = 1, min_child_weight = 0, max_depth = 2, learning_rate = 0.3, colsample_bytree = 1,\n",
    "                      random_state = 42)\n",
    "\n",
    "XGB_score = cross_val_score(XGB, X_train, y_train, scoring = my_scorer, cv = 5)\n",
    "\n",
    "print(np.mean(XGB_score))"
   ]
  },
  {
   "cell_type": "code",
   "execution_count": 317,
   "id": "b96e8aa6",
   "metadata": {},
   "outputs": [],
   "source": [
    "#Tune next group\n",
    "\n",
    "XGB = xgb.XGBRegressor()\n",
    "\n",
    "random_grid_XGB = {'max_depth' : [2], \n",
    "                   'min_child_weight': [0],\n",
    "                   'subsample': list(x/100 for x in range(1,100)),\n",
    "                   'colsample_bytree': list(x/100 for x in range(1,100)),\n",
    "                   'learning_rate': [0.3]}\n"
   ]
  },
  {
   "cell_type": "code",
   "execution_count": 318,
   "id": "232a94d1",
   "metadata": {},
   "outputs": [],
   "source": [
    "XGB_search = RandomizedSearchCV(estimator = XGB, \n",
    "                               param_distributions = random_grid_XGB,\n",
    "                               n_iter = 500,\n",
    "                               cv = 5,\n",
    "                               verbose = 0,\n",
    "                               random_state = 42,\n",
    "                               scoring = my_scorer,\n",
    "                               n_jobs = -1)"
   ]
  },
  {
   "cell_type": "code",
   "execution_count": 319,
   "id": "2ba46e42",
   "metadata": {},
   "outputs": [
    {
     "data": {
      "text/html": [
       "<style>#sk-container-id-23 {color: black;background-color: white;}#sk-container-id-23 pre{padding: 0;}#sk-container-id-23 div.sk-toggleable {background-color: white;}#sk-container-id-23 label.sk-toggleable__label {cursor: pointer;display: block;width: 100%;margin-bottom: 0;padding: 0.3em;box-sizing: border-box;text-align: center;}#sk-container-id-23 label.sk-toggleable__label-arrow:before {content: \"▸\";float: left;margin-right: 0.25em;color: #696969;}#sk-container-id-23 label.sk-toggleable__label-arrow:hover:before {color: black;}#sk-container-id-23 div.sk-estimator:hover label.sk-toggleable__label-arrow:before {color: black;}#sk-container-id-23 div.sk-toggleable__content {max-height: 0;max-width: 0;overflow: hidden;text-align: left;background-color: #f0f8ff;}#sk-container-id-23 div.sk-toggleable__content pre {margin: 0.2em;color: black;border-radius: 0.25em;background-color: #f0f8ff;}#sk-container-id-23 input.sk-toggleable__control:checked~div.sk-toggleable__content {max-height: 200px;max-width: 100%;overflow: auto;}#sk-container-id-23 input.sk-toggleable__control:checked~label.sk-toggleable__label-arrow:before {content: \"▾\";}#sk-container-id-23 div.sk-estimator input.sk-toggleable__control:checked~label.sk-toggleable__label {background-color: #d4ebff;}#sk-container-id-23 div.sk-label input.sk-toggleable__control:checked~label.sk-toggleable__label {background-color: #d4ebff;}#sk-container-id-23 input.sk-hidden--visually {border: 0;clip: rect(1px 1px 1px 1px);clip: rect(1px, 1px, 1px, 1px);height: 1px;margin: -1px;overflow: hidden;padding: 0;position: absolute;width: 1px;}#sk-container-id-23 div.sk-estimator {font-family: monospace;background-color: #f0f8ff;border: 1px dotted black;border-radius: 0.25em;box-sizing: border-box;margin-bottom: 0.5em;}#sk-container-id-23 div.sk-estimator:hover {background-color: #d4ebff;}#sk-container-id-23 div.sk-parallel-item::after {content: \"\";width: 100%;border-bottom: 1px solid gray;flex-grow: 1;}#sk-container-id-23 div.sk-label:hover label.sk-toggleable__label {background-color: #d4ebff;}#sk-container-id-23 div.sk-serial::before {content: \"\";position: absolute;border-left: 1px solid gray;box-sizing: border-box;top: 0;bottom: 0;left: 50%;z-index: 0;}#sk-container-id-23 div.sk-serial {display: flex;flex-direction: column;align-items: center;background-color: white;padding-right: 0.2em;padding-left: 0.2em;position: relative;}#sk-container-id-23 div.sk-item {position: relative;z-index: 1;}#sk-container-id-23 div.sk-parallel {display: flex;align-items: stretch;justify-content: center;background-color: white;position: relative;}#sk-container-id-23 div.sk-item::before, #sk-container-id-23 div.sk-parallel-item::before {content: \"\";position: absolute;border-left: 1px solid gray;box-sizing: border-box;top: 0;bottom: 0;left: 50%;z-index: -1;}#sk-container-id-23 div.sk-parallel-item {display: flex;flex-direction: column;z-index: 1;position: relative;background-color: white;}#sk-container-id-23 div.sk-parallel-item:first-child::after {align-self: flex-end;width: 50%;}#sk-container-id-23 div.sk-parallel-item:last-child::after {align-self: flex-start;width: 50%;}#sk-container-id-23 div.sk-parallel-item:only-child::after {width: 0;}#sk-container-id-23 div.sk-dashed-wrapped {border: 1px dashed gray;margin: 0 0.4em 0.5em 0.4em;box-sizing: border-box;padding-bottom: 0.4em;background-color: white;}#sk-container-id-23 div.sk-label label {font-family: monospace;font-weight: bold;display: inline-block;line-height: 1.2em;}#sk-container-id-23 div.sk-label-container {text-align: center;}#sk-container-id-23 div.sk-container {/* jupyter's `normalize.less` sets `[hidden] { display: none; }` but bootstrap.min.css set `[hidden] { display: none !important; }` so we also need the `!important` here to be able to override the default hidden behavior on the sphinx rendered scikit-learn.org. See: https://github.com/scikit-learn/scikit-learn/issues/21755 */display: inline-block !important;position: relative;}#sk-container-id-23 div.sk-text-repr-fallback {display: none;}</style><div id=\"sk-container-id-23\" class=\"sk-top-container\"><div class=\"sk-text-repr-fallback\"><pre>RandomizedSearchCV(cv=5,\n",
       "                   estimator=XGBRegressor(base_score=None, booster=None,\n",
       "                                          callbacks=None,\n",
       "                                          colsample_bylevel=None,\n",
       "                                          colsample_bynode=None,\n",
       "                                          colsample_bytree=None,\n",
       "                                          early_stopping_rounds=None,\n",
       "                                          enable_categorical=False,\n",
       "                                          eval_metric=None, feature_types=None,\n",
       "                                          gamma=None, gpu_id=None,\n",
       "                                          grow_policy=None,\n",
       "                                          importance_type=None,\n",
       "                                          interaction_constraints=None,\n",
       "                                          learning_rate=...\n",
       "                                                             0.22, 0.23, 0.24,\n",
       "                                                             0.25, 0.26, 0.27,\n",
       "                                                             0.28, 0.29, 0.3, ...],\n",
       "                                        &#x27;learning_rate&#x27;: [0.3],\n",
       "                                        &#x27;max_depth&#x27;: [2],\n",
       "                                        &#x27;min_child_weight&#x27;: [0],\n",
       "                                        &#x27;subsample&#x27;: [0.01, 0.02, 0.03, 0.04,\n",
       "                                                      0.05, 0.06, 0.07, 0.08,\n",
       "                                                      0.09, 0.1, 0.11, 0.12,\n",
       "                                                      0.13, 0.14, 0.15, 0.16,\n",
       "                                                      0.17, 0.18, 0.19, 0.2,\n",
       "                                                      0.21, 0.22, 0.23, 0.24,\n",
       "                                                      0.25, 0.26, 0.27, 0.28,\n",
       "                                                      0.29, 0.3, ...]},\n",
       "                   random_state=42,\n",
       "                   scoring=make_scorer(custom_loss_function, greater_is_better=False))</pre><b>In a Jupyter environment, please rerun this cell to show the HTML representation or trust the notebook. <br />On GitHub, the HTML representation is unable to render, please try loading this page with nbviewer.org.</b></div><div class=\"sk-container\" hidden><div class=\"sk-item sk-dashed-wrapped\"><div class=\"sk-label-container\"><div class=\"sk-label sk-toggleable\"><input class=\"sk-toggleable__control sk-hidden--visually\" id=\"sk-estimator-id-67\" type=\"checkbox\" ><label for=\"sk-estimator-id-67\" class=\"sk-toggleable__label sk-toggleable__label-arrow\">RandomizedSearchCV</label><div class=\"sk-toggleable__content\"><pre>RandomizedSearchCV(cv=5,\n",
       "                   estimator=XGBRegressor(base_score=None, booster=None,\n",
       "                                          callbacks=None,\n",
       "                                          colsample_bylevel=None,\n",
       "                                          colsample_bynode=None,\n",
       "                                          colsample_bytree=None,\n",
       "                                          early_stopping_rounds=None,\n",
       "                                          enable_categorical=False,\n",
       "                                          eval_metric=None, feature_types=None,\n",
       "                                          gamma=None, gpu_id=None,\n",
       "                                          grow_policy=None,\n",
       "                                          importance_type=None,\n",
       "                                          interaction_constraints=None,\n",
       "                                          learning_rate=...\n",
       "                                                             0.22, 0.23, 0.24,\n",
       "                                                             0.25, 0.26, 0.27,\n",
       "                                                             0.28, 0.29, 0.3, ...],\n",
       "                                        &#x27;learning_rate&#x27;: [0.3],\n",
       "                                        &#x27;max_depth&#x27;: [2],\n",
       "                                        &#x27;min_child_weight&#x27;: [0],\n",
       "                                        &#x27;subsample&#x27;: [0.01, 0.02, 0.03, 0.04,\n",
       "                                                      0.05, 0.06, 0.07, 0.08,\n",
       "                                                      0.09, 0.1, 0.11, 0.12,\n",
       "                                                      0.13, 0.14, 0.15, 0.16,\n",
       "                                                      0.17, 0.18, 0.19, 0.2,\n",
       "                                                      0.21, 0.22, 0.23, 0.24,\n",
       "                                                      0.25, 0.26, 0.27, 0.28,\n",
       "                                                      0.29, 0.3, ...]},\n",
       "                   random_state=42,\n",
       "                   scoring=make_scorer(custom_loss_function, greater_is_better=False))</pre></div></div></div><div class=\"sk-parallel\"><div class=\"sk-parallel-item\"><div class=\"sk-item\"><div class=\"sk-label-container\"><div class=\"sk-label sk-toggleable\"><input class=\"sk-toggleable__control sk-hidden--visually\" id=\"sk-estimator-id-68\" type=\"checkbox\" ><label for=\"sk-estimator-id-68\" class=\"sk-toggleable__label sk-toggleable__label-arrow\">estimator: XGBRegressor</label><div class=\"sk-toggleable__content\"><pre>XGBRegressor(base_score=None, booster=None, callbacks=None,\n",
       "             colsample_bylevel=None, colsample_bynode=None,\n",
       "             colsample_bytree=None, early_stopping_rounds=None,\n",
       "             enable_categorical=False, eval_metric=None, feature_types=None,\n",
       "             gamma=None, gpu_id=None, grow_policy=None, importance_type=None,\n",
       "             interaction_constraints=None, learning_rate=None, max_bin=None,\n",
       "             max_cat_threshold=None, max_cat_to_onehot=None,\n",
       "             max_delta_step=None, max_depth=None, max_leaves=None,\n",
       "             min_child_weight=None, missing=nan, monotone_constraints=None,\n",
       "             n_estimators=100, n_jobs=None, num_parallel_tree=None,\n",
       "             predictor=None, random_state=None, ...)</pre></div></div></div><div class=\"sk-serial\"><div class=\"sk-item\"><div class=\"sk-estimator sk-toggleable\"><input class=\"sk-toggleable__control sk-hidden--visually\" id=\"sk-estimator-id-69\" type=\"checkbox\" ><label for=\"sk-estimator-id-69\" class=\"sk-toggleable__label sk-toggleable__label-arrow\">XGBRegressor</label><div class=\"sk-toggleable__content\"><pre>XGBRegressor(base_score=None, booster=None, callbacks=None,\n",
       "             colsample_bylevel=None, colsample_bynode=None,\n",
       "             colsample_bytree=None, early_stopping_rounds=None,\n",
       "             enable_categorical=False, eval_metric=None, feature_types=None,\n",
       "             gamma=None, gpu_id=None, grow_policy=None, importance_type=None,\n",
       "             interaction_constraints=None, learning_rate=None, max_bin=None,\n",
       "             max_cat_threshold=None, max_cat_to_onehot=None,\n",
       "             max_delta_step=None, max_depth=None, max_leaves=None,\n",
       "             min_child_weight=None, missing=nan, monotone_constraints=None,\n",
       "             n_estimators=100, n_jobs=None, num_parallel_tree=None,\n",
       "             predictor=None, random_state=None, ...)</pre></div></div></div></div></div></div></div></div></div></div>"
      ],
      "text/plain": [
       "RandomizedSearchCV(cv=5,\n",
       "                   estimator=XGBRegressor(base_score=None, booster=None,\n",
       "                                          callbacks=None,\n",
       "                                          colsample_bylevel=None,\n",
       "                                          colsample_bynode=None,\n",
       "                                          colsample_bytree=None,\n",
       "                                          early_stopping_rounds=None,\n",
       "                                          enable_categorical=False,\n",
       "                                          eval_metric=None, feature_types=None,\n",
       "                                          gamma=None, gpu_id=None,\n",
       "                                          grow_policy=None,\n",
       "                                          importance_type=None,\n",
       "                                          interaction_constraints=None,\n",
       "                                          learning_rate=...\n",
       "                                                             0.22, 0.23, 0.24,\n",
       "                                                             0.25, 0.26, 0.27,\n",
       "                                                             0.28, 0.29, 0.3, ...],\n",
       "                                        'learning_rate': [0.3],\n",
       "                                        'max_depth': [2],\n",
       "                                        'min_child_weight': [0],\n",
       "                                        'subsample': [0.01, 0.02, 0.03, 0.04,\n",
       "                                                      0.05, 0.06, 0.07, 0.08,\n",
       "                                                      0.09, 0.1, 0.11, 0.12,\n",
       "                                                      0.13, 0.14, 0.15, 0.16,\n",
       "                                                      0.17, 0.18, 0.19, 0.2,\n",
       "                                                      0.21, 0.22, 0.23, 0.24,\n",
       "                                                      0.25, 0.26, 0.27, 0.28,\n",
       "                                                      0.29, 0.3, ...]},\n",
       "                   random_state=42,\n",
       "                   scoring=make_scorer(custom_loss_function, greater_is_better=False))"
      ]
     },
     "execution_count": 319,
     "metadata": {},
     "output_type": "execute_result"
    }
   ],
   "source": [
    "XGB_search.fit(X_train, y_train)"
   ]
  },
  {
   "cell_type": "code",
   "execution_count": 320,
   "id": "f5e4d61a",
   "metadata": {},
   "outputs": [
    {
     "data": {
      "text/plain": [
       "{'subsample': 0.85,\n",
       " 'min_child_weight': 0,\n",
       " 'max_depth': 2,\n",
       " 'learning_rate': 0.3,\n",
       " 'colsample_bytree': 0.96}"
      ]
     },
     "execution_count": 320,
     "metadata": {},
     "output_type": "execute_result"
    }
   ],
   "source": [
    "XGB_search.best_params_"
   ]
  },
  {
   "cell_type": "code",
   "execution_count": 321,
   "id": "3b100f00",
   "metadata": {},
   "outputs": [
    {
     "name": "stdout",
     "output_type": "stream",
     "text": [
      "-0.14004623079849848\n"
     ]
    }
   ],
   "source": [
    "XGB = xgb.XGBRegressor(subsample = 0.85, min_child_weight = 0, max_depth = 2, learning_rate = 0.3, colsample_bytree = 0.96,\n",
    "                      random_state = 42)\n",
    "\n",
    "XGB_score = cross_val_score(XGB, X_train, y_train, scoring = my_scorer, cv = 5)\n",
    "\n",
    "print(np.mean(XGB_score))\n",
    "\n",
    "#Score is very slightly better"
   ]
  },
  {
   "cell_type": "code",
   "execution_count": 329,
   "id": "3e93f4cf",
   "metadata": {},
   "outputs": [],
   "source": [
    "#Tune next group\n",
    "\n",
    "XGB = xgb.XGBRegressor()\n",
    "\n",
    "random_grid_XGB = {'max_depth' : [2], \n",
    "                   'min_child_weight': [0],\n",
    "                   'subsample': [0.85],\n",
    "                   'colsample_bytree': [0.96],\n",
    "                   'learning_rate': list(x/1000 for x in range(1,1000))}"
   ]
  },
  {
   "cell_type": "code",
   "execution_count": 330,
   "id": "b82c5c74",
   "metadata": {},
   "outputs": [],
   "source": [
    "XGB_search = RandomizedSearchCV(estimator = XGB, \n",
    "                               param_distributions = random_grid_XGB,\n",
    "                               n_iter = 500,\n",
    "                               cv = 5,\n",
    "                               verbose = 0,\n",
    "                               random_state = 42,\n",
    "                               scoring = my_scorer,\n",
    "                               n_jobs = -1)"
   ]
  },
  {
   "cell_type": "code",
   "execution_count": 331,
   "id": "49e33264",
   "metadata": {},
   "outputs": [
    {
     "data": {
      "text/html": [
       "<style>#sk-container-id-25 {color: black;background-color: white;}#sk-container-id-25 pre{padding: 0;}#sk-container-id-25 div.sk-toggleable {background-color: white;}#sk-container-id-25 label.sk-toggleable__label {cursor: pointer;display: block;width: 100%;margin-bottom: 0;padding: 0.3em;box-sizing: border-box;text-align: center;}#sk-container-id-25 label.sk-toggleable__label-arrow:before {content: \"▸\";float: left;margin-right: 0.25em;color: #696969;}#sk-container-id-25 label.sk-toggleable__label-arrow:hover:before {color: black;}#sk-container-id-25 div.sk-estimator:hover label.sk-toggleable__label-arrow:before {color: black;}#sk-container-id-25 div.sk-toggleable__content {max-height: 0;max-width: 0;overflow: hidden;text-align: left;background-color: #f0f8ff;}#sk-container-id-25 div.sk-toggleable__content pre {margin: 0.2em;color: black;border-radius: 0.25em;background-color: #f0f8ff;}#sk-container-id-25 input.sk-toggleable__control:checked~div.sk-toggleable__content {max-height: 200px;max-width: 100%;overflow: auto;}#sk-container-id-25 input.sk-toggleable__control:checked~label.sk-toggleable__label-arrow:before {content: \"▾\";}#sk-container-id-25 div.sk-estimator input.sk-toggleable__control:checked~label.sk-toggleable__label {background-color: #d4ebff;}#sk-container-id-25 div.sk-label input.sk-toggleable__control:checked~label.sk-toggleable__label {background-color: #d4ebff;}#sk-container-id-25 input.sk-hidden--visually {border: 0;clip: rect(1px 1px 1px 1px);clip: rect(1px, 1px, 1px, 1px);height: 1px;margin: -1px;overflow: hidden;padding: 0;position: absolute;width: 1px;}#sk-container-id-25 div.sk-estimator {font-family: monospace;background-color: #f0f8ff;border: 1px dotted black;border-radius: 0.25em;box-sizing: border-box;margin-bottom: 0.5em;}#sk-container-id-25 div.sk-estimator:hover {background-color: #d4ebff;}#sk-container-id-25 div.sk-parallel-item::after {content: \"\";width: 100%;border-bottom: 1px solid gray;flex-grow: 1;}#sk-container-id-25 div.sk-label:hover label.sk-toggleable__label {background-color: #d4ebff;}#sk-container-id-25 div.sk-serial::before {content: \"\";position: absolute;border-left: 1px solid gray;box-sizing: border-box;top: 0;bottom: 0;left: 50%;z-index: 0;}#sk-container-id-25 div.sk-serial {display: flex;flex-direction: column;align-items: center;background-color: white;padding-right: 0.2em;padding-left: 0.2em;position: relative;}#sk-container-id-25 div.sk-item {position: relative;z-index: 1;}#sk-container-id-25 div.sk-parallel {display: flex;align-items: stretch;justify-content: center;background-color: white;position: relative;}#sk-container-id-25 div.sk-item::before, #sk-container-id-25 div.sk-parallel-item::before {content: \"\";position: absolute;border-left: 1px solid gray;box-sizing: border-box;top: 0;bottom: 0;left: 50%;z-index: -1;}#sk-container-id-25 div.sk-parallel-item {display: flex;flex-direction: column;z-index: 1;position: relative;background-color: white;}#sk-container-id-25 div.sk-parallel-item:first-child::after {align-self: flex-end;width: 50%;}#sk-container-id-25 div.sk-parallel-item:last-child::after {align-self: flex-start;width: 50%;}#sk-container-id-25 div.sk-parallel-item:only-child::after {width: 0;}#sk-container-id-25 div.sk-dashed-wrapped {border: 1px dashed gray;margin: 0 0.4em 0.5em 0.4em;box-sizing: border-box;padding-bottom: 0.4em;background-color: white;}#sk-container-id-25 div.sk-label label {font-family: monospace;font-weight: bold;display: inline-block;line-height: 1.2em;}#sk-container-id-25 div.sk-label-container {text-align: center;}#sk-container-id-25 div.sk-container {/* jupyter's `normalize.less` sets `[hidden] { display: none; }` but bootstrap.min.css set `[hidden] { display: none !important; }` so we also need the `!important` here to be able to override the default hidden behavior on the sphinx rendered scikit-learn.org. See: https://github.com/scikit-learn/scikit-learn/issues/21755 */display: inline-block !important;position: relative;}#sk-container-id-25 div.sk-text-repr-fallback {display: none;}</style><div id=\"sk-container-id-25\" class=\"sk-top-container\"><div class=\"sk-text-repr-fallback\"><pre>RandomizedSearchCV(cv=5,\n",
       "                   estimator=XGBRegressor(base_score=None, booster=None,\n",
       "                                          callbacks=None,\n",
       "                                          colsample_bylevel=None,\n",
       "                                          colsample_bynode=None,\n",
       "                                          colsample_bytree=None,\n",
       "                                          early_stopping_rounds=None,\n",
       "                                          enable_categorical=False,\n",
       "                                          eval_metric=None, feature_types=None,\n",
       "                                          gamma=None, gpu_id=None,\n",
       "                                          grow_policy=None,\n",
       "                                          importance_type=None,\n",
       "                                          interaction_constraints=None,\n",
       "                                          learning_rate=...\n",
       "                   param_distributions={&#x27;colsample_bytree&#x27;: [0.96],\n",
       "                                        &#x27;learning_rate&#x27;: [0.001, 0.002, 0.003,\n",
       "                                                          0.004, 0.005, 0.006,\n",
       "                                                          0.007, 0.008, 0.009,\n",
       "                                                          0.01, 0.011, 0.012,\n",
       "                                                          0.013, 0.014, 0.015,\n",
       "                                                          0.016, 0.017, 0.018,\n",
       "                                                          0.019, 0.02, 0.021,\n",
       "                                                          0.022, 0.023, 0.024,\n",
       "                                                          0.025, 0.026, 0.027,\n",
       "                                                          0.028, 0.029, 0.03, ...],\n",
       "                                        &#x27;max_depth&#x27;: [2],\n",
       "                                        &#x27;min_child_weight&#x27;: [0],\n",
       "                                        &#x27;subsample&#x27;: [0.85]},\n",
       "                   random_state=42,\n",
       "                   scoring=make_scorer(custom_loss_function, greater_is_better=False))</pre><b>In a Jupyter environment, please rerun this cell to show the HTML representation or trust the notebook. <br />On GitHub, the HTML representation is unable to render, please try loading this page with nbviewer.org.</b></div><div class=\"sk-container\" hidden><div class=\"sk-item sk-dashed-wrapped\"><div class=\"sk-label-container\"><div class=\"sk-label sk-toggleable\"><input class=\"sk-toggleable__control sk-hidden--visually\" id=\"sk-estimator-id-73\" type=\"checkbox\" ><label for=\"sk-estimator-id-73\" class=\"sk-toggleable__label sk-toggleable__label-arrow\">RandomizedSearchCV</label><div class=\"sk-toggleable__content\"><pre>RandomizedSearchCV(cv=5,\n",
       "                   estimator=XGBRegressor(base_score=None, booster=None,\n",
       "                                          callbacks=None,\n",
       "                                          colsample_bylevel=None,\n",
       "                                          colsample_bynode=None,\n",
       "                                          colsample_bytree=None,\n",
       "                                          early_stopping_rounds=None,\n",
       "                                          enable_categorical=False,\n",
       "                                          eval_metric=None, feature_types=None,\n",
       "                                          gamma=None, gpu_id=None,\n",
       "                                          grow_policy=None,\n",
       "                                          importance_type=None,\n",
       "                                          interaction_constraints=None,\n",
       "                                          learning_rate=...\n",
       "                   param_distributions={&#x27;colsample_bytree&#x27;: [0.96],\n",
       "                                        &#x27;learning_rate&#x27;: [0.001, 0.002, 0.003,\n",
       "                                                          0.004, 0.005, 0.006,\n",
       "                                                          0.007, 0.008, 0.009,\n",
       "                                                          0.01, 0.011, 0.012,\n",
       "                                                          0.013, 0.014, 0.015,\n",
       "                                                          0.016, 0.017, 0.018,\n",
       "                                                          0.019, 0.02, 0.021,\n",
       "                                                          0.022, 0.023, 0.024,\n",
       "                                                          0.025, 0.026, 0.027,\n",
       "                                                          0.028, 0.029, 0.03, ...],\n",
       "                                        &#x27;max_depth&#x27;: [2],\n",
       "                                        &#x27;min_child_weight&#x27;: [0],\n",
       "                                        &#x27;subsample&#x27;: [0.85]},\n",
       "                   random_state=42,\n",
       "                   scoring=make_scorer(custom_loss_function, greater_is_better=False))</pre></div></div></div><div class=\"sk-parallel\"><div class=\"sk-parallel-item\"><div class=\"sk-item\"><div class=\"sk-label-container\"><div class=\"sk-label sk-toggleable\"><input class=\"sk-toggleable__control sk-hidden--visually\" id=\"sk-estimator-id-74\" type=\"checkbox\" ><label for=\"sk-estimator-id-74\" class=\"sk-toggleable__label sk-toggleable__label-arrow\">estimator: XGBRegressor</label><div class=\"sk-toggleable__content\"><pre>XGBRegressor(base_score=None, booster=None, callbacks=None,\n",
       "             colsample_bylevel=None, colsample_bynode=None,\n",
       "             colsample_bytree=None, early_stopping_rounds=None,\n",
       "             enable_categorical=False, eval_metric=None, feature_types=None,\n",
       "             gamma=None, gpu_id=None, grow_policy=None, importance_type=None,\n",
       "             interaction_constraints=None, learning_rate=None, max_bin=None,\n",
       "             max_cat_threshold=None, max_cat_to_onehot=None,\n",
       "             max_delta_step=None, max_depth=None, max_leaves=None,\n",
       "             min_child_weight=None, missing=nan, monotone_constraints=None,\n",
       "             n_estimators=100, n_jobs=None, num_parallel_tree=None,\n",
       "             predictor=None, random_state=None, ...)</pre></div></div></div><div class=\"sk-serial\"><div class=\"sk-item\"><div class=\"sk-estimator sk-toggleable\"><input class=\"sk-toggleable__control sk-hidden--visually\" id=\"sk-estimator-id-75\" type=\"checkbox\" ><label for=\"sk-estimator-id-75\" class=\"sk-toggleable__label sk-toggleable__label-arrow\">XGBRegressor</label><div class=\"sk-toggleable__content\"><pre>XGBRegressor(base_score=None, booster=None, callbacks=None,\n",
       "             colsample_bylevel=None, colsample_bynode=None,\n",
       "             colsample_bytree=None, early_stopping_rounds=None,\n",
       "             enable_categorical=False, eval_metric=None, feature_types=None,\n",
       "             gamma=None, gpu_id=None, grow_policy=None, importance_type=None,\n",
       "             interaction_constraints=None, learning_rate=None, max_bin=None,\n",
       "             max_cat_threshold=None, max_cat_to_onehot=None,\n",
       "             max_delta_step=None, max_depth=None, max_leaves=None,\n",
       "             min_child_weight=None, missing=nan, monotone_constraints=None,\n",
       "             n_estimators=100, n_jobs=None, num_parallel_tree=None,\n",
       "             predictor=None, random_state=None, ...)</pre></div></div></div></div></div></div></div></div></div></div>"
      ],
      "text/plain": [
       "RandomizedSearchCV(cv=5,\n",
       "                   estimator=XGBRegressor(base_score=None, booster=None,\n",
       "                                          callbacks=None,\n",
       "                                          colsample_bylevel=None,\n",
       "                                          colsample_bynode=None,\n",
       "                                          colsample_bytree=None,\n",
       "                                          early_stopping_rounds=None,\n",
       "                                          enable_categorical=False,\n",
       "                                          eval_metric=None, feature_types=None,\n",
       "                                          gamma=None, gpu_id=None,\n",
       "                                          grow_policy=None,\n",
       "                                          importance_type=None,\n",
       "                                          interaction_constraints=None,\n",
       "                                          learning_rate=...\n",
       "                   param_distributions={'colsample_bytree': [0.96],\n",
       "                                        'learning_rate': [0.001, 0.002, 0.003,\n",
       "                                                          0.004, 0.005, 0.006,\n",
       "                                                          0.007, 0.008, 0.009,\n",
       "                                                          0.01, 0.011, 0.012,\n",
       "                                                          0.013, 0.014, 0.015,\n",
       "                                                          0.016, 0.017, 0.018,\n",
       "                                                          0.019, 0.02, 0.021,\n",
       "                                                          0.022, 0.023, 0.024,\n",
       "                                                          0.025, 0.026, 0.027,\n",
       "                                                          0.028, 0.029, 0.03, ...],\n",
       "                                        'max_depth': [2],\n",
       "                                        'min_child_weight': [0],\n",
       "                                        'subsample': [0.85]},\n",
       "                   random_state=42,\n",
       "                   scoring=make_scorer(custom_loss_function, greater_is_better=False))"
      ]
     },
     "execution_count": 331,
     "metadata": {},
     "output_type": "execute_result"
    }
   ],
   "source": [
    "XGB_search.fit(X_train, y_train)"
   ]
  },
  {
   "cell_type": "code",
   "execution_count": 332,
   "id": "2c47f393",
   "metadata": {},
   "outputs": [
    {
     "data": {
      "text/plain": [
       "{'subsample': 0.85,\n",
       " 'min_child_weight': 0,\n",
       " 'max_depth': 2,\n",
       " 'learning_rate': 0.295,\n",
       " 'colsample_bytree': 0.96}"
      ]
     },
     "execution_count": 332,
     "metadata": {},
     "output_type": "execute_result"
    }
   ],
   "source": [
    "XGB_search.best_params_"
   ]
  },
  {
   "cell_type": "code",
   "execution_count": 333,
   "id": "0e92a9b9",
   "metadata": {},
   "outputs": [
    {
     "name": "stdout",
     "output_type": "stream",
     "text": [
      "-0.13899150475668595\n"
     ]
    }
   ],
   "source": [
    "XGB = xgb.XGBRegressor(subsample = 0.85, min_child_weight = 0, max_depth = 2, learning_rate = 0.295, colsample_bytree = 0.96,\n",
    "                      random_state = 42)\n",
    "\n",
    "XGB_score = cross_val_score(XGB, X_train, y_train, scoring = my_scorer, cv = 5)\n",
    "\n",
    "print(np.mean(XGB_score))\n",
    "\n",
    "#Score improved with each \"round\" of tuning?"
   ]
  },
  {
   "cell_type": "code",
   "execution_count": 334,
   "id": "d6b8c558",
   "metadata": {},
   "outputs": [],
   "source": [
    "#9. Rerun each model with our new, tuned hyperparameters\n",
    "\n",
    "def cross_val_final(x,y):\n",
    "    RF_model = RandomForestRegressor(n_estimators = 500, max_features = 49, max_depth = None, random_state = 42)\n",
    "    score = cross_val_score(RF_model, x, y, scoring = my_scorer, cv = 5)\n",
    "    print('Random Forest scores: ' + str(np.mean(score)))\n",
    "    \n",
    "    linear_model = Ridge(alpha = 0.999, random_state = 42)\n",
    "    score2 = cross_val_score(linear_model, x, y, scoring = my_scorer, cv = 5)\n",
    "    print('Ridge scores: ' + str(np.mean(score2)))\n",
    "    \n",
    "    elastic = ElasticNet(alpha = 0.0007, random_state = 42)\n",
    "    score3 = cross_val_score(elastic, x, y, scoring = my_scorer, cv = 5)\n",
    "    print('Elastic scores: ' + str(np.mean(score3)))\n",
    "    \n",
    "    boost = xgb.XGBRegressor(subsample = 0.85, min_child_weight = 0, max_depth = 2, learning_rate = 0.295, colsample_bytree = 0.96,\n",
    "                      random_state = 42)\n",
    "    score4 = cross_val_score(boost, x, y, scoring = my_scorer, cv = 5)\n",
    "    print('XGBoost scores: ' + str(np.mean(score4)))"
   ]
  },
  {
   "cell_type": "code",
   "execution_count": 335,
   "id": "97f7ea94",
   "metadata": {},
   "outputs": [
    {
     "name": "stdout",
     "output_type": "stream",
     "text": [
      "Random Forest scores: -0.1428060623340539\n",
      "Ridge scores: -0.1384067702036234\n",
      "Elastic scores: -0.1355942359228795\n",
      "XGBoost scores: -0.13899150475668595\n"
     ]
    }
   ],
   "source": [
    "#Run final\n",
    "cross_val_final(X_train, y_train)"
   ]
  },
  {
   "cell_type": "code",
   "execution_count": 336,
   "id": "f7cf64ca",
   "metadata": {},
   "outputs": [],
   "source": [
    "#10. Blend"
   ]
  },
  {
   "cell_type": "code",
   "execution_count": 339,
   "id": "90ce0417",
   "metadata": {},
   "outputs": [],
   "source": [
    "def blend(x, y, z):\n",
    "    RF_model = RandomForestRegressor(n_estimators = 500, max_features = 49, max_depth = None, random_state = 42)\n",
    "    RF_model.fit(x,y)\n",
    "    prediction1 = RF_model.predict(z)\n",
    "    \n",
    "    linear_model = Ridge(alpha = 0.999, random_state = 42)\n",
    "    linear_model.fit(x,y)\n",
    "    prediction2 = linear_model.predict(z)\n",
    "    \n",
    "    elastic = ElasticNet(alpha = 0.0007, random_state = 42)\n",
    "    elastic.fit(x,y)\n",
    "    prediction3 = elastic.predict(z)\n",
    "    \n",
    "    boost = xgb.XGBRegressor(subsample = 0.85, min_child_weight = 0, max_depth = 2, learning_rate = 0.295, colsample_bytree = 0.96,\n",
    "                      random_state = 42)\n",
    "    boost.fit(x,y)\n",
    "    prediction4 = boost.predict(z)\n",
    "    \n",
    "    final_prediction = (prediction1 + prediction2 + prediction3 + prediction4)/4\n",
    "    \n",
    "    final_prediction = np.exp(final_prediction) - 1\n",
    "    \n",
    "    return final_prediction\n",
    "    "
   ]
  },
  {
   "cell_type": "code",
   "execution_count": 340,
   "id": "544f904c",
   "metadata": {},
   "outputs": [],
   "source": [
    "output = pd.DataFrame({'SalePrice': blend(X_train, y_train, X_test)}, index = test_original.Id.astype(int))\n",
    "output.to_csv('HP_0709_v1.csv')"
   ]
  },
  {
   "cell_type": "code",
   "execution_count": 341,
   "id": "9c58c1c8",
   "metadata": {},
   "outputs": [],
   "source": [
    "#This gets us to a score of .12748, our best score yet! \n",
    "#Next step: try using different combinations of models. Perhaps it isn't the best idea to use all 4 models. "
   ]
  },
  {
   "cell_type": "code",
   "execution_count": 364,
   "id": "e1cca376",
   "metadata": {},
   "outputs": [],
   "source": [
    "def blend_2(x, y, z):\n",
    "    RF_model = RandomForestRegressor(n_estimators = 500, max_features = 49, max_depth = None, random_state = 42)\n",
    "    RF_model.fit(x,y)\n",
    "    prediction1 = RF_model.predict(z)\n",
    "    prediction1 = np.exp(prediction1) - 1\n",
    "    \n",
    "    linear_model = Ridge(alpha = 0.999, random_state = 42)\n",
    "    linear_model.fit(x,y)\n",
    "    prediction2 = linear_model.predict(z)\n",
    "    prediction2 = np.exp(prediction2) - 1\n",
    "\n",
    "    \n",
    "    elastic = ElasticNet(alpha = 0.0007, random_state = 42)\n",
    "    elastic.fit(x,y)\n",
    "    prediction3 = elastic.predict(z)\n",
    "    prediction3 = np.exp(prediction3) - 1\n",
    "\n",
    "    \n",
    "    boost = xgb.XGBRegressor(subsample = 0.85, min_child_weight = 0, max_depth = 2, learning_rate = 0.295, colsample_bytree = 0.96,\n",
    "                      random_state = 42)\n",
    "    boost.fit(x,y)\n",
    "    prediction4 = boost.predict(z)\n",
    "    prediction4 = np.exp(prediction4) - 1\n",
    "    \n",
    "    return [prediction1, prediction2, prediction3, prediction4]"
   ]
  },
  {
   "cell_type": "code",
   "execution_count": 365,
   "id": "59eb2047",
   "metadata": {},
   "outputs": [],
   "source": [
    "final_output = blend_2(X_train,y_train,X_test)"
   ]
  },
  {
   "cell_type": "code",
   "execution_count": 348,
   "id": "745c5eab",
   "metadata": {},
   "outputs": [
    {
     "data": {
      "text/plain": [
       "list"
      ]
     },
     "execution_count": 348,
     "metadata": {},
     "output_type": "execute_result"
    }
   ],
   "source": [
    "#now, we choose all combinations of 1, 2, 3 and 4 models. "
   ]
  },
  {
   "cell_type": "code",
   "execution_count": 362,
   "id": "4eae51a0",
   "metadata": {},
   "outputs": [],
   "source": [
    "count = [1,2,3,4]\n",
    "set = []\n",
    "for x in count:\n",
    "    for a in list(itertools.combinations(final_output, x)):\n",
    "        set.append(a)"
   ]
  },
  {
   "cell_type": "code",
   "execution_count": 372,
   "id": "368501bc",
   "metadata": {},
   "outputs": [],
   "source": [
    "final = []\n",
    "\n",
    "for x in set:\n",
    "    final.append(sum(x)/len(x))"
   ]
  },
  {
   "cell_type": "code",
   "execution_count": 376,
   "id": "58ede8fe",
   "metadata": {},
   "outputs": [],
   "source": [
    "count = 1\n",
    "\n",
    "for x in final:\n",
    "    output = pd.DataFrame({'SalePrice': x}, index = test_original.Id.astype(int))\n",
    "    output.to_csv(f'HP_0709_combination_v{count}.csv')\n",
    "    count+=1"
   ]
  },
  {
   "cell_type": "code",
   "execution_count": 377,
   "id": "35541ccf",
   "metadata": {},
   "outputs": [],
   "source": [
    "#all 15 combinations have been output to the files. Will need to run all into Kaggle to confirm what works best. "
   ]
  },
  {
   "cell_type": "code",
   "execution_count": 378,
   "id": "87355956",
   "metadata": {},
   "outputs": [],
   "source": [
    "#It turns out all 15 combinations were either equal or worse. For this iteration, the blend of 4 is the best outcome.\n",
    "\n",
    "#Of interesting note - doing the blend and then converting back from log yields better results. We know this since\n",
    "#we had a combination that was just the blend of all 4 (which yielded slightly worse results)"
   ]
  },
  {
   "cell_type": "code",
   "execution_count": null,
   "id": "e03aa1bb",
   "metadata": {},
   "outputs": [],
   "source": [
    "#Note: it looks like the results of cross validation were relatively accurate in this case"
   ]
  }
 ],
 "metadata": {
  "kernelspec": {
   "display_name": "Python 3 (ipykernel)",
   "language": "python",
   "name": "python3"
  },
  "language_info": {
   "codemirror_mode": {
    "name": "ipython",
    "version": 3
   },
   "file_extension": ".py",
   "mimetype": "text/x-python",
   "name": "python",
   "nbconvert_exporter": "python",
   "pygments_lexer": "ipython3",
   "version": "3.9.13"
  }
 },
 "nbformat": 4,
 "nbformat_minor": 5
}
